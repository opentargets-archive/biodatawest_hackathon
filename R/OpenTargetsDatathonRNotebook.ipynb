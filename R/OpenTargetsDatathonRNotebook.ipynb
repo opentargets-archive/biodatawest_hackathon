{
 "cells": [
  {
   "cell_type": "markdown",
   "metadata": {},
   "source": [
    "# BioData West Open Targets Datathon\n",
    "**Matthew R. Nelson**\n",
    "\n",
    "**March 12, 2018**\n",
    "\n",
    "## Introduction\n",
    "There has been exponential growth in the genomic data being produced to yield new insights into biology, and particularly with the intent to understand the role of genes and proteins and pathways in disease.  Despite this, selecting protein targets for drug discovery still seems more of an art, guided by intuition and influenced by cognitive biases, than a reproducible science.  Open Targets was established to bring the data and science together in a pre-competitive environment to help foster better early discovery decision making.  In this dual session, we will introduce and engage the participants to the science of target selection.  In this datathon, you will be introduced to the evidence types Open Targets is currently using to established relationships between genes and disease to aid in selecting and validating prospective drug targets.\n",
    "\n",
    "You will be introduced to several genomic and gene-disease data sources.  You are tasked with exploring methods for using these data for predicting drug development success.  Insights and feedback from among the participants will be collated and shared, and may be used in future development of the Open Targets platform.  \n",
    "\n",
    "Prior to the datathon, you are encouraged to download the data files, view the example analysis notebooks available in R and Python, and review the data documentation.  A brief summary will be provided during the introductory session and researchers from Open Targets and GSK will be on hand to answer any questions you may have.  \n",
    "\n",
    "At the datathon, you will be divided into small groups where you can work individually or jointly to explore these data, their relationships to development outcomes, and methods of modeling them to predict outcomes.  At the end of the datathon, groups will be invited to share their experiences and discuss potential next steps.  You are welcome to use whatever analysis tools you prefer for this analysis exercise.\n",
    "\n",
    "\n"
   ]
  },
  {
   "cell_type": "markdown",
   "metadata": {},
   "source": [
    "## Data Import\n",
    "\n",
    "The three primary datathon files are summarized below.  You can find a more complete description of each data file and the variables within them at the datathon Wiki site.\n",
    "\n",
    "**Note about neoplasm versus non-neoplasm indications:** Because the genomic evidence that may be important for neoplasms may be very different than for non-neoplasms, we restrict this summary of the data to non-neoplasm data only."
   ]
  },
  {
   "cell_type": "code",
   "execution_count": 1,
   "metadata": {},
   "outputs": [
    {
     "name": "stderr",
     "output_type": "stream",
     "text": [
      "\n",
      "Attaching package: 'dplyr'\n",
      "\n",
      "The following objects are masked from 'package:stats':\n",
      "\n",
      "    filter, lag\n",
      "\n",
      "The following objects are masked from 'package:base':\n",
      "\n",
      "    intersect, setdiff, setequal, union\n",
      "\n"
     ]
    }
   ],
   "source": [
    "## Load packages to use\n",
    "library(ggplot2) # Plotting functions\n",
    "library(tidyr) # Use gather() for reformatting to long-skinny\n",
    "library(dplyr) # Using chaining (%>%) and several dplyr verbs"
   ]
  },
  {
   "cell_type": "markdown",
   "metadata": {},
   "source": [
    "### Pharmaprojects data\n",
    "The first data file, Pprojects_drugs_TTlabel.csv, is derived from Informa Pharmaprojects, a commercial database tracking the development of over 68,000 drugs over the past several decades.  Researchers at GSK have carefully processed and curated this database to create a summary of all target-indication pairs (T-I) that have entered clinical development, tracking the furthest stage of development achieved.  A T-I is considered successful if any drug annotated to act through the selected target was approved for the accompanying indication.  Further details are available on the See [the datathon Wiki site](https://github.com/opentargets/biodatawest_hackathon/wiki/Open-Targets-hackathon-datasets-description) for details.  The objective of this datathon is to identify the genomic factors that predict successful T-Is (for example, see the related paper by Nelson et al. 2015).  Informa has permitted us to make these data freely available to the datathon participants during the course of this datathon.  They must be permanently deleted after the datathon work is completed, as agreed in the survey.  We have identified 80%/20% of T-Is as a training set and test set.  We encourage any participants interested in exploring predictive models to use them as such."
   ]
  },
  {
   "cell_type": "code",
   "execution_count": 2,
   "metadata": {
    "collapsed": true
   },
   "outputs": [],
   "source": [
    "pp.data = read.csv(\"Pprojects_drugs_TTlabel.csv\",\n",
    "                  na.strings = c(\"NA\", \"\"), header = TRUE) %>%\n",
    "  filter(DiseaseType %in% \"Non-Neoplasm\") %>% \n",
    "  rename(key = target_indication)"
   ]
  },
  {
   "cell_type": "code",
   "execution_count": 3,
   "metadata": {},
   "outputs": [
    {
     "data": {
      "text/plain": [
       "                           key              ensembl_gene_id       disease_id  \n",
       " ENSG00000000971-EFO_0000253 :   1   ENSG00000113580:  97   EFO_0000685: 171  \n",
       " ENSG00000001626-EFO_0000555 :   1   ENSG00000073756:  85   EFO_0000676: 158  \n",
       " ENSG00000001626-HP_0002014  :   1   ENSG00000095303:  79   EFO_0000198: 138  \n",
       " ENSG00000001626-Orphanet_586:   1   ENSG00000065989:  63   EFO_0003843: 128  \n",
       " ENSG00000001630-EFO_0003914 :   1   ENSG00000184588:  61   EFO_0000270: 126  \n",
       " ENSG00000003436-EFO_0001420 :   1   ENSG00000105650:  59   EFO_0000249: 113  \n",
       " (Other)                     :7874   (Other)        :7436   (Other)    :7046  \n",
       "   entrez_id            MeSH_ID           DiseaseType  \n",
       " Min.   :        2   D001172: 171   Neoplasm    :   0  \n",
       " 1st Qu.:     1815   D011565: 158   Non-Neoplasm:7880  \n",
       " Median :     3596   D009190: 138                      \n",
       " Mean   :    35198   D001249: 126                      \n",
       " 3rd Qu.:     5743   D000544: 113                      \n",
       " Max.   :100133941   D003924: 110                      \n",
       "                     (Other):7064                      \n",
       "            Clinical.Label_PP            Furthest.Phase\n",
       " Clinical Failure    :4160    Clinical Phase I  :1635  \n",
       " In Progress Clinical:1820    Clinical Phase II :3290  \n",
       " Succeeded           :1900    Clinical Phase III:1005  \n",
       "                              Succeeded         :1900  \n",
       "                              Withdrawn         :  50  \n",
       "                                                       \n",
       "                                                       \n",
       "      Therapeutic.Direction Indication.with.First.Clinical.Outcome.for.Target\n",
       " Activator       :1768      N:7165                                           \n",
       " Inhibitor       :4435      Y: 715                                           \n",
       " Mixed or Unknown:1677                                                       \n",
       "                                                                             \n",
       "                                                                             \n",
       "                                                                             \n",
       "                                                                             \n",
       "                           Types.of.Assets Suggested.Dataset.Utility\n",
       " Non-Selective Assets              :2835   Neither :7167            \n",
       " Selective and Non-Selective Assets:1635   Test    : 154            \n",
       " Selective Assets                  :3410   Training: 559            \n",
       "                                                                    \n",
       "                                                                    \n",
       "                                                                    \n",
       "                                                                    "
      ]
     },
     "metadata": {},
     "output_type": "display_data"
    }
   ],
   "source": [
    "summary(pp.data)"
   ]
  },
  {
   "cell_type": "markdown",
   "metadata": {},
   "source": [
    "### Open Targets Evidence Scores\n",
    "\n",
    "The second dataset includes the evidence scores that are available through the [Open Targets Portal](http://www.targetvalidation.org/).  See [the datathon Wiki pages](https://github.com/opentargets/biodatawest_hackathon/wiki/Open-Targets-hackathon-datasets-description) for details.\n",
    "\n",
    "The data file provided includes target evidence scores for all target-indication combinations available in the Open Targets database (over 2.3 million).  As the focus of this exercise is to predict clinical success of target-indication pairs, I have imported the large data file and saved the overlap with Pharmaprojects as a separate, much smaller data set."
   ]
  },
  {
   "cell_type": "code",
   "execution_count": 4,
   "metadata": {
    "collapsed": true
   },
   "outputs": [],
   "source": [
    "## Create a small dataset matched to pp.data\n",
    "#ot.data.all = read.csv(\"gene_disease_associations_datatypes_with_expression.csv\",\n",
    "#                       na.strings = c(\"NA\", \"\"), header = TRUE)\n",
    "#write.table(subset(ot.data.all, key %in% pp.data$target_indication),\n",
    "#            file = \"PP_gene_disease_associations_datatypes_with_expression.csv\", \n",
    "#            sep = \",\", na = \"NA\", \n",
    "#            row.names = FALSE)"
   ]
  },
  {
   "cell_type": "markdown",
   "metadata": {},
   "source": [
    "Now we can simply import the smaller dataset to make re-running this notebook much simpler."
   ]
  },
  {
   "cell_type": "code",
   "execution_count": 5,
   "metadata": {},
   "outputs": [
    {
     "data": {
      "text/html": [
       "<ol class=list-inline>\n",
       "\t<li>5090</li>\n",
       "\t<li>19</li>\n",
       "</ol>\n"
      ],
      "text/latex": [
       "\\begin{enumerate*}\n",
       "\\item 5090\n",
       "\\item 19\n",
       "\\end{enumerate*}\n"
      ],
      "text/markdown": [
       "1. 5090\n",
       "2. 19\n",
       "\n",
       "\n"
      ],
      "text/plain": [
       "[1] 5090   19"
      ]
     },
     "metadata": {},
     "output_type": "display_data"
    },
    {
     "data": {
      "text/plain": [
       "                             key         entrez_id        \n",
       " ENSG00000000971-EFO_0000253   :   1   Min.   :        2  \n",
       " ENSG00000001626-EFO_0000555   :   1   1st Qu.:     1815  \n",
       " ENSG00000001626-HP_0002014    :   1   Median :     3588  \n",
       " ENSG00000001626-Orphanet_586  :   1   Mean   :    29582  \n",
       " ENSG00000003436-Orphanet_903  :   1   3rd Qu.:     5743  \n",
       " ENSG00000003436-Orphanet_98878:   1   Max.   :100133941  \n",
       " (Other)                       :5084                      \n",
       "        ensembl_gene_id     symbol           disease_id  \n",
       " ENSG00000113580:  72   NR3C1  :  72   EFO_0000685: 148  \n",
       " ENSG00000073756:  71   PTGS2  :  71   EFO_0000676: 135  \n",
       " ENSG00000095303:  56   PTGS1  :  56   EFO_0000270: 116  \n",
       " ENSG00000232810:  51   TNF    :  51   EFO_0003843: 115  \n",
       " ENSG00000149295:  46   DRD2   :  46   EFO_0000198: 102  \n",
       " ENSG00000113448:  36   PDE4B  :  36   EFO_0000249:  98  \n",
       " (Other)        :4758   (Other):4758   (Other)    :4376  \n",
       "                  disease_label \n",
       " rheumatoid arthritis    : 148  \n",
       " psoriasis               : 135  \n",
       " asthma                  : 116  \n",
       " pain                    : 115  \n",
       " myelodysplastic syndrome: 102  \n",
       " Alzheimers disease      :  98  \n",
       " (Other)                 :4376  \n",
       "                                       therapeutic_area is_direct   \n",
       " phenotype                                     : 739    False: 311  \n",
       " nervous system disease; other disease         : 591    True :4779  \n",
       " cardiovascular disease                        : 471                \n",
       " immune system disease; skeletal system disease: 300                \n",
       " respiratory system disease                    : 277                \n",
       " (Other)                                       :2484                \n",
       " NA's                                          : 228                \n",
       " genetic_association somatic_mutation    known_drug       rna_expression  \n",
       " Min.   :0.0000118   Min.   :0.00000   Min.   :0.000000   Min.   :0.0000  \n",
       " 1st Qu.:0.0563836   1st Qu.:0.00000   1st Qu.:0.000000   1st Qu.:0.0000  \n",
       " Median :0.2247230   Median :0.00000   Median :0.000000   Median :0.2000  \n",
       " Mean   :0.4653398   Mean   :0.06326   Mean   :0.005106   Mean   :0.3826  \n",
       " 3rd Qu.:1.0000000   3rd Qu.:0.00000   3rd Qu.:0.000000   3rd Qu.:1.0000  \n",
       " Max.   :1.5124629   Max.   :1.49410   Max.   :1.010602   Max.   :1.0000  \n",
       "                                                                          \n",
       " affected_pathway     animal_model        literature      \n",
       " Min.   :0.0000000   Min.   :0.000000   Min.   :0.000000  \n",
       " 1st Qu.:0.0000000   1st Qu.:0.000000   1st Qu.:0.000000  \n",
       " Median :0.0000000   Median :0.000000   Median :0.000000  \n",
       " Mean   :0.0001652   Mean   :0.009285   Mean   :0.008681  \n",
       " 3rd Qu.:0.0000000   3rd Qu.:0.000000   3rd Qu.:0.000000  \n",
       " Max.   :0.0471697   Max.   :1.000000   Max.   :0.314590  \n",
       "                                                          \n",
       "                              tissue_label          source    \n",
       " Unspecified                        :4636   GTExv6     : 454  \n",
       " Lung                               :  44   Unspecified:4636  \n",
       " Small Intestine - Terminal Ileum   :  34                     \n",
       " Nerve - Tibial                     :  29                     \n",
       " Skin - Not Sun Exposed (Suprapubic):  29                     \n",
       " Adipose - Subcutaneous             :  25                     \n",
       " (Other)                            : 293                     \n",
       " max_fold_change    expression_score \n",
       " Min.   :    0.00   Min.   :0.00000  \n",
       " 1st Qu.:    0.00   1st Qu.:0.00000  \n",
       " Median :    0.00   Median :0.00000  \n",
       " Mean   :   31.99   Mean   :0.04244  \n",
       " 3rd Qu.:    0.00   3rd Qu.:0.00000  \n",
       " Max.   :23708.28   Max.   :0.99000  \n",
       "                                     "
      ]
     },
     "metadata": {},
     "output_type": "display_data"
    }
   ],
   "source": [
    "ot.data <- read.csv(\"PP_gene_disease_associations_datatypes_with_expression.csv\", \n",
    "                    na.strings = c(\"NA\", \"\"), header = TRUE)\n",
    "dim(ot.data)\n",
    "summary(ot.data)"
   ]
  },
  {
   "cell_type": "markdown",
   "metadata": {},
   "source": [
    "### Open Targets data broken down to specific data sources\n",
    "\n",
    "The third data file has the same structure as the Open Targets data types score file, but breaks the data types down into the data sources that they were derived from.  For example, the genetic_association score is derived from a combination of the uniprot, gwas_catalog, phewas_catalog, eva, uniprot_literature, genomics_england and gene2phenotype genetic scores.  You may use any predictive models developed over the course of this datathon to identify the T-I that are expected to be the most effective drug discovery opportunities. See [the datathon Wiki page](https://github.com/opentargets/biodatawest_hackathon/wiki/Open-Targets-hackathon-datasets-description) for details.\n",
    "\n",
    "As above, the subset of this data set that overlaps with Pharmaprojects has been saved to make re-running this notebook simpler.  (Reading the entire data file takes 30+ seconds on my laptop... I'm not that patient.)"
   ]
  },
  {
   "cell_type": "code",
   "execution_count": 6,
   "metadata": {
    "collapsed": true
   },
   "outputs": [],
   "source": [
    "## Create a small dataset matched to pp.data\n",
    "##otsource.data.all = read.csv(\"gene_disease_associations_datasources_with_expression.csv\", \n",
    "##                             na.strings = c(\"NA\", \"\"), header = TRUE)\n",
    "##write.table(subset(otsource.data.all, key %in% pp.data$target_indication),\n",
    "##            file = \"PP_gene_disease_associations_datasources_with_expression.csv\", \n",
    "##            sep = \",\", na = \"NA\", \n",
    "##            row.names = FALSE)"
   ]
  },
  {
   "cell_type": "code",
   "execution_count": 7,
   "metadata": {},
   "outputs": [
    {
     "data": {
      "text/html": [
       "<ol class=list-inline>\n",
       "\t<li>5090</li>\n",
       "\t<li>29</li>\n",
       "</ol>\n"
      ],
      "text/latex": [
       "\\begin{enumerate*}\n",
       "\\item 5090\n",
       "\\item 29\n",
       "\\end{enumerate*}\n"
      ],
      "text/markdown": [
       "1. 5090\n",
       "2. 29\n",
       "\n",
       "\n"
      ],
      "text/plain": [
       "[1] 5090   29"
      ]
     },
     "metadata": {},
     "output_type": "display_data"
    },
    {
     "data": {
      "text/plain": [
       "                             key         entrez_id        \n",
       " ENSG00000000971-EFO_0000253   :   1   Min.   :        2  \n",
       " ENSG00000001626-EFO_0000555   :   1   1st Qu.:     1815  \n",
       " ENSG00000001626-HP_0002014    :   1   Median :     3588  \n",
       " ENSG00000001626-Orphanet_586  :   1   Mean   :    29582  \n",
       " ENSG00000003436-Orphanet_903  :   1   3rd Qu.:     5743  \n",
       " ENSG00000003436-Orphanet_98878:   1   Max.   :100133941  \n",
       " (Other)                       :5084                      \n",
       "        ensembl_gene_id     symbol           disease_id  \n",
       " ENSG00000113580:  72   NR3C1  :  72   EFO_0000685: 148  \n",
       " ENSG00000073756:  71   PTGS2  :  71   EFO_0000676: 135  \n",
       " ENSG00000095303:  56   PTGS1  :  56   EFO_0000270: 116  \n",
       " ENSG00000232810:  51   TNF    :  51   EFO_0003843: 115  \n",
       " ENSG00000149295:  46   DRD2   :  46   EFO_0000198: 102  \n",
       " ENSG00000113448:  36   PDE4B  :  36   EFO_0000249:  98  \n",
       " (Other)        :4758   (Other):4758   (Other)    :4376  \n",
       "                  disease_label \n",
       " rheumatoid arthritis    : 148  \n",
       " psoriasis               : 135  \n",
       " asthma                  : 116  \n",
       " pain                    : 115  \n",
       " myelodysplastic syndrome: 102  \n",
       " Alzheimers disease      :  98  \n",
       " (Other)                 :4376  \n",
       "                                       therapeutic_area is_direct   \n",
       " phenotype                                     : 739    False: 311  \n",
       " nervous system disease; other disease         : 591    True :4779  \n",
       " cardiovascular disease                        : 471                \n",
       " immune system disease; skeletal system disease: 300                \n",
       " respiratory system disease                    : 277                \n",
       " (Other)                                       :2484                \n",
       " NA's                                          : 228                \n",
       " expression_atlas       uniprot           gwas_catalog     phewas_catalog   \n",
       " Min.   :0.0000118   Min.   :0.0000000   Min.   :0.00000   Min.   :0.00000  \n",
       " 1st Qu.:0.0563836   1st Qu.:0.0000000   1st Qu.:0.00000   1st Qu.:0.00000  \n",
       " Median :0.2247230   Median :0.0000000   Median :0.00000   Median :0.00000  \n",
       " Mean   :0.4653398   Mean   :0.0001652   Mean   :0.01769   Mean   :0.02331  \n",
       " 3rd Qu.:1.0000000   3rd Qu.:0.0000000   3rd Qu.:0.00000   3rd Qu.:0.00000  \n",
       " Max.   :1.5124629   Max.   :0.0471697   Max.   :1.00000   Max.   :1.00000  \n",
       "                                                                            \n",
       "      eva           uniprot_literature genomics_england  gene2phenotype   \n",
       " Min.   :0.000000   Min.   :0.00000    Min.   :0.00000   Min.   :0.00000  \n",
       " 1st Qu.:0.000000   1st Qu.:0.00000    1st Qu.:0.00000   1st Qu.:0.00000  \n",
       " Median :0.000000   Median :0.00000    Median :0.00000   Median :0.00000  \n",
       " Mean   :0.000194   Mean   :0.02061    Mean   :0.02338   Mean   :0.02279  \n",
       " 3rd Qu.:0.000000   3rd Qu.:0.00000    3rd Qu.:0.00000   3rd Qu.:0.00000  \n",
       " Max.   :0.194296   Max.   :1.00000    Max.   :1.00000   Max.   :1.00000  \n",
       "                                                                          \n",
       "    reactome          slapenrich         phenodigm        cancer_gene_census\n",
       " Min.   :0.000000   Min.   :0.000000   Min.   :0.000000   Min.   :0.000000  \n",
       " 1st Qu.:0.000000   1st Qu.:0.000000   1st Qu.:0.000000   1st Qu.:0.000000  \n",
       " Median :0.000000   Median :0.000000   Median :0.000000   Median :0.000000  \n",
       " Mean   :0.006287   Mean   :0.005697   Mean   :0.003588   Mean   :0.008681  \n",
       " 3rd Qu.:0.000000   3rd Qu.:0.000000   3rd Qu.:0.000000   3rd Qu.:0.000000  \n",
       " Max.   :1.000000   Max.   :1.000000   Max.   :0.802229   Max.   :0.314590  \n",
       "                                                                            \n",
       "  eva_somatic       uniprot_somatic        intogen              chembl         \n",
       " Min.   :0.000000   Min.   :0.0000000   Min.   :0.0000000   Min.   :0.0000000  \n",
       " 1st Qu.:0.000000   1st Qu.:0.0000000   1st Qu.:0.0000000   1st Qu.:0.0000000  \n",
       " Median :0.000000   Median :0.0000000   Median :0.0000000   Median :0.0000000  \n",
       " Mean   :0.004747   Mean   :0.0007955   Mean   :0.0001091   Mean   :0.0001091  \n",
       " 3rd Qu.:0.000000   3rd Qu.:0.0000000   3rd Qu.:0.0000000   3rd Qu.:0.0000000  \n",
       " Max.   :0.813372   Max.   :0.8131173   Max.   :0.5555556   Max.   :0.4166667  \n",
       "                                                                               \n",
       "   europepmc                                   tissue_label          source    \n",
       " Min.   :0.0000   Unspecified                        :4636   GTExv6     : 454  \n",
       " 1st Qu.:0.0000   Lung                               :  44   Unspecified:4636  \n",
       " Median :0.2000   Small Intestine - Terminal Ileum   :  34                     \n",
       " Mean   :0.3826   Nerve - Tibial                     :  29                     \n",
       " 3rd Qu.:1.0000   Skin - Not Sun Exposed (Suprapubic):  29                     \n",
       " Max.   :1.0000   Adipose - Subcutaneous             :  25                     \n",
       "                  (Other)                            : 293                     \n",
       " max_fold_change    expression_score \n",
       " Min.   :    0.00   Min.   :0.00000  \n",
       " 1st Qu.:    0.00   1st Qu.:0.00000  \n",
       " Median :    0.00   Median :0.00000  \n",
       " Mean   :   31.99   Mean   :0.04244  \n",
       " 3rd Qu.:    0.00   3rd Qu.:0.00000  \n",
       " Max.   :23708.28   Max.   :0.99000  \n",
       "                                     "
      ]
     },
     "metadata": {},
     "output_type": "display_data"
    }
   ],
   "source": [
    "otsource.data <- read.csv(\"PP_gene_disease_associations_datasources_with_expression.csv\", \n",
    "                    na.strings = c(\"NA\", \"\"), header = TRUE)\n",
    "dim(otsource.data)\n",
    "summary(otsource.data)"
   ]
  },
  {
   "cell_type": "markdown",
   "metadata": {},
   "source": [
    "### Additional Gene Characteristics of Interest\n",
    "\n",
    "In addition to the current Open Targets evidence scores, we include a number of other genomic characteristics that may be insightful in differentiating between effective and ineffective mechanisms.  See [the datathon Wiki pages](https://github.com/opentargets/biodatawest_hackathon/wiki/Open-Targets-hackathon-datasets-description) for details."
   ]
  },
  {
   "cell_type": "code",
   "execution_count": 8,
   "metadata": {
    "collapsed": true
   },
   "outputs": [],
   "source": [
    "##gene.data.all <- read.csv(\"gene_info_qtq.csv\", \n",
    "##                          na.strings = c(\"NA\", \"\"), header = TRUE)\n",
    "##write.table(subset(gene.data.all, entrez_id %in% pp.data$entrez_id),\n",
    "##            file = \"PP_gene_info_qtq.csv\", sep = \",\", na = \"NA\", \n",
    "##            row.names = FALSE)"
   ]
  },
  {
   "cell_type": "code",
   "execution_count": 9,
   "metadata": {},
   "outputs": [
    {
     "data": {
      "text/html": [
       "<ol class=list-inline>\n",
       "\t<li>40518</li>\n",
       "\t<li>16</li>\n",
       "</ol>\n"
      ],
      "text/latex": [
       "\\begin{enumerate*}\n",
       "\\item 40518\n",
       "\\item 16\n",
       "\\end{enumerate*}\n"
      ],
      "text/markdown": [
       "1. 40518\n",
       "2. 16\n",
       "\n",
       "\n"
      ],
      "text/plain": [
       "[1] 40518    16"
      ]
     },
     "metadata": {},
     "output_type": "display_data"
    },
    {
     "data": {
      "text/html": [
       "1108"
      ],
      "text/latex": [
       "1108"
      ],
      "text/markdown": [
       "1108"
      ],
      "text/plain": [
       "[1] 1108"
      ]
     },
     "metadata": {},
     "output_type": "display_data"
    },
    {
     "data": {
      "text/plain": [
       "     symbol        entrez_id                              locus_type   \n",
       " JAK2   :  248   Min.   :        2   endogenous retrovirus     :    7  \n",
       " TGFB1  :  231   1st Qu.:     1815   gene with protein product :40486  \n",
       " CTNNB1 :  218   Median :     3757   immunoglobulin gene       :   17  \n",
       " AKT1   :  179   Mean   :    96704   RNA, micro                :    5  \n",
       " SIRT1  :  177   3rd Qu.:     6387   RNA, misc                 :    1  \n",
       " (Other):39464   Max.   :100133941   T-cell receptor gene      :    1  \n",
       " NA's   :    1                       T-cell receptor pseudogene:    1  \n",
       "              locus_group           go_id      \n",
       " non-coding RNA     :    6   GO:0005886:  842  \n",
       " other              :   25   GO:0005515:  775  \n",
       " protein-coding gene:40486   GO:0005829:  456  \n",
       " pseudogene         :    1   GO:0005576:  390  \n",
       "                             GO:0005887:  358  \n",
       "                             (Other)   :37686  \n",
       "                             NA's      :   11  \n",
       "                                  go_label     evidence_type  \n",
       " plasma membrane                      :  842   IEA    :10934  \n",
       " protein binding                      :  775   IDA    : 9039  \n",
       " cytosol                              :  456   TAS    : 7854  \n",
       " extracellular region                 :  390   ISS    : 3414  \n",
       " integral component of plasma membrane:  358   IMP    : 3058  \n",
       " (Other)                              :37686   (Other): 6208  \n",
       " NA's                                 :   11   NA's   :   11  \n",
       " reported_count                 protein_class                 target_class  \n",
       " Min.   :  1.000   Enzyme              : 3789   Enzyme_all_others   : 7315  \n",
       " 1st Qu.:  1.000   Unclassified protein: 3346   Kinase_Protein      : 6689  \n",
       " Median :  1.000   Secreted protein    : 2175   Extracellular Ligand: 4568  \n",
       " Mean   :  1.673   Membrane receptor   : 1548   Receptor_all_others : 4324  \n",
       " 3rd Qu.:  1.000   Transcription factor:  693   7TM_Group1          : 3613  \n",
       " Max.   :453.000   (Other)             :22284   (Other)             :14001  \n",
       " NA's   :11        NA's                : 6683   NA's                :    8  \n",
       "    topology_type    target_location               ExAC_LoF    \n",
       " Membrane  : 4314   Exposed  :15753   Intolerant to LoF:14716  \n",
       " MultiTM   : 8653   Nucleus  : 8200   Missing          :  794  \n",
       " Secreted  : 7519   Free     : 7519   Tolerant to LoF  : 6810  \n",
       " SingleTM  : 6962   Organelle: 4123   Unclassified     :18190  \n",
       " Unattached:13062   Cytoplasm: 3255   NA's             :    8  \n",
       " NA's      :    8   (Other)  : 1660                            \n",
       "                    NA's     :    8                            \n",
       " pc_mouse_gene_identity GTEX_median_all_tissues\n",
       " Min.   :  0.00         Min.   :    0.00       \n",
       " 1st Qu.: 77.62         1st Qu.:    0.50       \n",
       " Median : 88.10         Median :    3.77       \n",
       " Mean   : 83.37         Mean   :   28.21       \n",
       " 3rd Qu.: 94.59         3rd Qu.:   17.74       \n",
       " Max.   :100.00         Max.   :10056.00       \n",
       " NA's   :8              NA's   :8              \n",
       "                            description   \n",
       " Janus kinase 2                   :  248  \n",
       " transforming growth factor beta 1:  231  \n",
       " catenin beta 1                   :  218  \n",
       " AKT serine/threonine kinase 1    :  179  \n",
       " sirtuin 1                        :  177  \n",
       " (Other)                          :39457  \n",
       " NA's                             :    8  "
      ]
     },
     "metadata": {},
     "output_type": "display_data"
    }
   ],
   "source": [
    "gene.data <- read.csv(\"PP_gene_info_qtq.csv\", \n",
    "                    na.strings = c(\"NA\", \"\"), header = TRUE) %>%\n",
    "  select(-X, -hgnc_id, -ensembl_gene_id, -uniprot_id)\n",
    "dim(gene.data)\n",
    "length(unique(gene.data$entrez_id))\n",
    "summary(gene.data)\n"
   ]
  },
  {
   "cell_type": "markdown",
   "metadata": {},
   "source": [
    "Most of the descriptors in this data set have a single value for each gene:"
   ]
  },
  {
   "cell_type": "code",
   "execution_count": 10,
   "metadata": {},
   "outputs": [
    {
     "data": {
      "text/html": [
       "<dl class=dl-horizontal>\n",
       "\t<dt>symbol</dt>\n",
       "\t\t<dd>1108</dd>\n",
       "\t<dt>entrez_id</dt>\n",
       "\t\t<dd>1108</dd>\n",
       "\t<dt>locus_type</dt>\n",
       "\t\t<dd>1108</dd>\n",
       "\t<dt>locus_group</dt>\n",
       "\t\t<dd>1108</dd>\n",
       "\t<dt>go_id</dt>\n",
       "\t\t<dd>37167</dd>\n",
       "\t<dt>go_label</dt>\n",
       "\t\t<dd>37167</dd>\n",
       "\t<dt>evidence_type</dt>\n",
       "\t\t<dd>6620</dd>\n",
       "\t<dt>reported_count</dt>\n",
       "\t\t<dd>3886</dd>\n",
       "\t<dt>protein_class</dt>\n",
       "\t\t<dd>1124</dd>\n",
       "\t<dt>target_class</dt>\n",
       "\t\t<dd>1108</dd>\n",
       "\t<dt>topology_type</dt>\n",
       "\t\t<dd>1108</dd>\n",
       "\t<dt>target_location</dt>\n",
       "\t\t<dd>1108</dd>\n",
       "\t<dt>ExAC_LoF</dt>\n",
       "\t\t<dd>1108</dd>\n",
       "\t<dt>pc_mouse_gene_identity</dt>\n",
       "\t\t<dd>1108</dd>\n",
       "\t<dt>GTEX_median_all_tissues</dt>\n",
       "\t\t<dd>1108</dd>\n",
       "\t<dt>description</dt>\n",
       "\t\t<dd>1108</dd>\n",
       "</dl>\n"
      ],
      "text/latex": [
       "\\begin{description*}\n",
       "\\item[symbol] 1108\n",
       "\\item[entrez\\textbackslash{}\\_id] 1108\n",
       "\\item[locus\\textbackslash{}\\_type] 1108\n",
       "\\item[locus\\textbackslash{}\\_group] 1108\n",
       "\\item[go\\textbackslash{}\\_id] 37167\n",
       "\\item[go\\textbackslash{}\\_label] 37167\n",
       "\\item[evidence\\textbackslash{}\\_type] 6620\n",
       "\\item[reported\\textbackslash{}\\_count] 3886\n",
       "\\item[protein\\textbackslash{}\\_class] 1124\n",
       "\\item[target\\textbackslash{}\\_class] 1108\n",
       "\\item[topology\\textbackslash{}\\_type] 1108\n",
       "\\item[target\\textbackslash{}\\_location] 1108\n",
       "\\item[ExAC\\textbackslash{}\\_LoF] 1108\n",
       "\\item[pc\\textbackslash{}\\_mouse\\textbackslash{}\\_gene\\textbackslash{}\\_identity] 1108\n",
       "\\item[GTEX\\textbackslash{}\\_median\\textbackslash{}\\_all\\textbackslash{}\\_tissues] 1108\n",
       "\\item[description] 1108\n",
       "\\end{description*}\n"
      ],
      "text/markdown": [
       "symbol\n",
       ":   1108entrez_id\n",
       ":   1108locus_type\n",
       ":   1108locus_group\n",
       ":   1108go_id\n",
       ":   37167go_label\n",
       ":   37167evidence_type\n",
       ":   6620reported_count\n",
       ":   3886protein_class\n",
       ":   1124target_class\n",
       ":   1108topology_type\n",
       ":   1108target_location\n",
       ":   1108ExAC_LoF\n",
       ":   1108pc_mouse_gene_identity\n",
       ":   1108GTEX_median_all_tissues\n",
       ":   1108description\n",
       ":   1108\n",
       "\n"
      ],
      "text/plain": [
       "                 symbol               entrez_id              locus_type \n",
       "                   1108                    1108                    1108 \n",
       "            locus_group                   go_id                go_label \n",
       "                   1108                   37167                   37167 \n",
       "          evidence_type          reported_count           protein_class \n",
       "                   6620                    3886                    1124 \n",
       "           target_class           topology_type         target_location \n",
       "                   1108                    1108                    1108 \n",
       "               ExAC_LoF  pc_mouse_gene_identity GTEX_median_all_tissues \n",
       "                   1108                    1108                    1108 \n",
       "            description \n",
       "                   1108 "
      ]
     },
     "metadata": {},
     "output_type": "display_data"
    }
   ],
   "source": [
    "apply(gene.data, 2, function(x) length(unique(paste(gene.data$symbol, x))))"
   ]
  },
  {
   "cell_type": "markdown",
   "metadata": {},
   "source": [
    "In this analysis, I'm not doing anything sophisticated with the various GO terms.  To simplify this, I create an analysis version by reducing this data set to the first occurance of each each gene."
   ]
  },
  {
   "cell_type": "code",
   "execution_count": 11,
   "metadata": {
    "collapsed": true
   },
   "outputs": [],
   "source": [
    "ugene.data <- gene.data %>%\n",
    "    subset(!duplicated(symbol))"
   ]
  },
  {
   "cell_type": "markdown",
   "metadata": {},
   "source": [
    "### Merge all data sets into single data frame for analysis"
   ]
  },
  {
   "cell_type": "code",
   "execution_count": 12,
   "metadata": {},
   "outputs": [
    {
     "name": "stderr",
     "output_type": "stream",
     "text": [
      "Joining, by = c(\"key\", \"ensembl_gene_id\", \"disease_id\", \"entrez_id\")\n",
      "Warning message:\n",
      "\"Column `key` joining factors with different levels, coercing to character vector\"Warning message:\n",
      "\"Column `ensembl_gene_id` joining factors with different levels, coercing to character vector\"Warning message:\n",
      "\"Column `disease_id` joining factors with different levels, coercing to character vector\"Joining, by = c(\"key\", \"ensembl_gene_id\", \"disease_id\", \"entrez_id\", \"symbol\", \"disease_label\", \"therapeutic_area\", \"is_direct\", \"tissue_label\", \"source\", \"max_fold_change\", \"expression_score\")\n",
      "Warning message:\n",
      "\"Column `key` joining character vector and factor, coercing into character vector\"Warning message:\n",
      "\"Column `ensembl_gene_id` joining character vector and factor, coercing into character vector\"Warning message:\n",
      "\"Column `disease_id` joining character vector and factor, coercing into character vector\"Joining, by = c(\"entrez_id\", \"symbol\")\n",
      "Warning message:\n",
      "\"Column `symbol` joining factors with different levels, coercing to character vector\""
     ]
    },
    {
     "data": {
      "text/html": [
       "<ol class=list-inline>\n",
       "\t<li>4047</li>\n",
       "\t<li>59</li>\n",
       "</ol>\n"
      ],
      "text/latex": [
       "\\begin{enumerate*}\n",
       "\\item 4047\n",
       "\\item 59\n",
       "\\end{enumerate*}\n"
      ],
      "text/markdown": [
       "1. 4047\n",
       "2. 59\n",
       "\n",
       "\n"
      ],
      "text/plain": [
       "[1] 4047   59"
      ]
     },
     "metadata": {},
     "output_type": "display_data"
    },
    {
     "data": {
      "text/plain": [
       "     key            ensembl_gene_id     disease_id          entrez_id        \n",
       " Length:4047        Length:4047        Length:4047        Min.   :        2  \n",
       " Class :character   Class :character   Class :character   1st Qu.:     1813  \n",
       " Mode  :character   Mode  :character   Mode  :character   Median :     3559  \n",
       "                                                          Mean   :    33468  \n",
       "                                                          3rd Qu.:     5742  \n",
       "                                                          Max.   :100133941  \n",
       "                                                                             \n",
       "    MeSH_ID           DiseaseType              Clinical.Label_PP\n",
       " D001172: 128   Neoplasm    :   0   Clinical Failure    :2757   \n",
       " D011565: 114   Non-Neoplasm:4047   In Progress Clinical:   0   \n",
       " D001249: 104                       Succeeded           :1290   \n",
       " D000544:  73                                                   \n",
       " D003924:  73                                                   \n",
       " D006973:  68                                                   \n",
       " (Other):3487                                                   \n",
       "            Furthest.Phase      Therapeutic.Direction\n",
       " Clinical Phase I  : 777   Activator       : 845     \n",
       " Clinical Phase II :1492   Inhibitor       :2239     \n",
       " Clinical Phase III: 454   Mixed or Unknown: 963     \n",
       " Succeeded         :1290                             \n",
       " Withdrawn         :  34                             \n",
       "                                                     \n",
       "                                                     \n",
       " Indication.with.First.Clinical.Outcome.for.Target\n",
       " N:3528                                           \n",
       " Y: 519                                           \n",
       "                                                  \n",
       "                                                  \n",
       "                                                  \n",
       "                                                  \n",
       "                                                  \n",
       "                           Types.of.Assets Suggested.Dataset.Utility\n",
       " Non-Selective Assets              :1237   Neither :3528            \n",
       " Selective and Non-Selective Assets:1242   Test    : 116            \n",
       " Selective Assets                  :1568   Training: 403            \n",
       "                                                                    \n",
       "                                                                    \n",
       "                                                                    \n",
       "                                                                    \n",
       "    symbol                            disease_label \n",
       " Length:4047        rheumatoid arthritis     : 128  \n",
       " Class :character   psoriasis                : 114  \n",
       " Mode  :character   asthma                   : 104  \n",
       "                    pain                     : 102  \n",
       "                    Alzheimers disease       :  73  \n",
       "                    type II diabetes mellitus:  73  \n",
       "                    (Other)                  :3453  \n",
       "                                       therapeutic_area is_direct   \n",
       " phenotype                                     : 634    False: 258  \n",
       " nervous system disease; other disease         : 517    True :3789  \n",
       " cardiovascular disease                        : 406                \n",
       " immune system disease; skeletal system disease: 230                \n",
       " respiratory system disease                    : 222                \n",
       " (Other)                                       :1839                \n",
       " NA's                                          : 199                \n",
       " genetic_association somatic_mutation    known_drug       rna_expression  \n",
       " Min.   :0.0000118   Min.   :0.00000   Min.   :0.000000   Min.   :0.0000  \n",
       " 1st Qu.:0.0612497   1st Qu.:0.00000   1st Qu.:0.000000   1st Qu.:0.0000  \n",
       " Median :0.2611111   Median :0.00000   Median :0.000000   Median :0.2000  \n",
       " Mean   :0.5048597   Mean   :0.06269   Mean   :0.004864   Mean   :0.4255  \n",
       " 3rd Qu.:1.0049113   3rd Qu.:0.00000   3rd Qu.:0.000000   3rd Qu.:1.0000  \n",
       " Max.   :1.5124629   Max.   :1.49410   Max.   :1.010602   Max.   :1.0000  \n",
       "                                                                          \n",
       " affected_pathway     animal_model       literature      \n",
       " Min.   :0.0000000   Min.   :0.00000   Min.   :0.000000  \n",
       " 1st Qu.:0.0000000   1st Qu.:0.00000   1st Qu.:0.000000  \n",
       " Median :0.0000000   Median :0.00000   Median :0.000000  \n",
       " Mean   :0.0001736   Mean   :0.01034   Mean   :0.009063  \n",
       " 3rd Qu.:0.0000000   3rd Qu.:0.00000   3rd Qu.:0.000000  \n",
       " Max.   :0.0313116   Max.   :1.00000   Max.   :0.314590  \n",
       "                                                         \n",
       "                              tissue_label          source    \n",
       " Unspecified                        :3671   GTExv6     : 376  \n",
       " Lung                               :  35   Unspecified:3671  \n",
       " Nerve - Tibial                     :  24                     \n",
       " Skin - Not Sun Exposed (Suprapubic):  23                     \n",
       " Artery - Aorta                     :  22                     \n",
       " Brain - Frontal Cortex (BA9)       :  22                     \n",
       " (Other)                            : 250                     \n",
       " max_fold_change    expression_score  expression_atlas       uniprot         \n",
       " Min.   :    0.00   Min.   :0.00000   Min.   :0.0000118   Min.   :0.0000000  \n",
       " 1st Qu.:    0.00   1st Qu.:0.00000   1st Qu.:0.0612497   1st Qu.:0.0000000  \n",
       " Median :    0.00   Median :0.00000   Median :0.2611111   Median :0.0000000  \n",
       " Mean   :   26.19   Mean   :0.04418   Mean   :0.5048597   Mean   :0.0001736  \n",
       " 3rd Qu.:    0.00   3rd Qu.:0.00000   3rd Qu.:1.0049113   3rd Qu.:0.0000000  \n",
       " Max.   :10791.95   Max.   :0.98000   Max.   :1.5124629   Max.   :0.0313116  \n",
       "                                                                             \n",
       "  gwas_catalog     phewas_catalog         eva            uniprot_literature\n",
       " Min.   :0.00000   Min.   :0.00000   Min.   :0.0000000   Min.   :0.0000    \n",
       " 1st Qu.:0.00000   1st Qu.:0.00000   1st Qu.:0.0000000   1st Qu.:0.0000    \n",
       " Median :0.00000   Median :0.00000   Median :0.0000000   Median :0.0000    \n",
       " Mean   :0.01858   Mean   :0.02261   Mean   :0.0002321   Mean   :0.0203    \n",
       " 3rd Qu.:0.00000   3rd Qu.:0.00000   3rd Qu.:0.0000000   3rd Qu.:0.0000    \n",
       " Max.   :1.00000   Max.   :1.00000   Max.   :0.1942961   Max.   :1.0000    \n",
       "                                                                           \n",
       " genomics_england  gene2phenotype       reactome          slapenrich     \n",
       " Min.   :0.00000   Min.   :0.00000   Min.   :0.000000   Min.   :0.00000  \n",
       " 1st Qu.:0.00000   1st Qu.:0.00000   1st Qu.:0.000000   1st Qu.:0.00000  \n",
       " Median :0.00000   Median :0.00000   Median :0.000000   Median :0.00000  \n",
       " Mean   :0.02347   Mean   :0.02224   Mean   :0.006177   Mean   :0.00593  \n",
       " 3rd Qu.:0.00000   3rd Qu.:0.00000   3rd Qu.:0.000000   3rd Qu.:0.00000  \n",
       " Max.   :1.00000   Max.   :1.00000   Max.   :1.000000   Max.   :1.00000  \n",
       "                                                                         \n",
       "   phenodigm        cancer_gene_census  eva_somatic       uniprot_somatic    \n",
       " Min.   :0.000000   Min.   :0.000000   Min.   :0.000000   Min.   :0.0000000  \n",
       " 1st Qu.:0.000000   1st Qu.:0.000000   1st Qu.:0.000000   1st Qu.:0.0000000  \n",
       " Median :0.000000   Median :0.000000   Median :0.000000   Median :0.0000000  \n",
       " Mean   :0.004409   Mean   :0.009063   Mean   :0.004562   Mean   :0.0004755  \n",
       " 3rd Qu.:0.000000   3rd Qu.:0.000000   3rd Qu.:0.000000   3rd Qu.:0.0000000  \n",
       " Max.   :0.802229   Max.   :0.314590   Max.   :0.813372   Max.   :0.8131173  \n",
       "                                                                             \n",
       "    intogen              chembl            europepmc     \n",
       " Min.   :0.0000000   Min.   :0.0000000   Min.   :0.0000  \n",
       " 1st Qu.:0.0000000   1st Qu.:0.0000000   1st Qu.:0.0000  \n",
       " Median :0.0000000   Median :0.0000000   Median :0.2000  \n",
       " Mean   :0.0001373   Mean   :0.0001373   Mean   :0.4255  \n",
       " 3rd Qu.:0.0000000   3rd Qu.:0.0000000   3rd Qu.:1.0000  \n",
       " Max.   :0.5555556   Max.   :0.4166667   Max.   :1.0000  \n",
       "                                                         \n",
       "                      locus_type                locus_group          go_id     \n",
       " endogenous retrovirus     :   0   non-coding RNA     :   0   GO:0009897: 188  \n",
       " gene with protein product :4042   other              :   5   GO:0005737: 178  \n",
       " immunoglobulin gene       :   5   protein-coding gene:4042   GO:0004252: 153  \n",
       " RNA, micro                :   0   pseudogene         :   0   GO:0000187: 128  \n",
       " RNA, misc                 :   0                              GO:0005088:  85  \n",
       " T-cell receptor gene      :   0                              (Other)   :3310  \n",
       " T-cell receptor pseudogene:   0                              NA's      :   5  \n",
       "                                           go_label    evidence_type \n",
       " external side of plasma membrane              : 188   IEA    :1254  \n",
       " cytoplasm                                     : 178   IDA    : 790  \n",
       " serine-type endopeptidase activity            : 153   TAS    : 741  \n",
       " activation of MAPK activity                   : 128   ISS    : 459  \n",
       " Ras guanyl-nucleotide exchange factor activity:  85   IMP    : 252  \n",
       " (Other)                                       :3310   (Other): 546  \n",
       " NA's                                          :   5   NA's   :   5  \n",
       " reported_count              protein_class                target_class \n",
       " Min.   : 1.000   Secreted protein  : 238   7TM_Group1          : 994  \n",
       " 1st Qu.: 1.000   Oxidoreductase    : 225   Enzyme_all_others   : 535  \n",
       " Median : 1.000   Membrane receptor : 219   Receptor_all_others : 440  \n",
       " Mean   : 1.192   Enzyme            : 184   Ion Channel         : 384  \n",
       " 3rd Qu.: 1.000   Serotonin receptor: 145   Extracellular Ligand: 310  \n",
       " Max.   :15.000   (Other)           :2747   Kinase_Protein      : 240  \n",
       " NA's   :5        NA's              : 289   (Other)             :1144  \n",
       "    topology_type       target_location              ExAC_LoF   \n",
       " Membrane  : 354   Cytoplasm    : 212   Intolerant to LoF:1164  \n",
       " MultiTM   :1744   Exposed      :2172   Missing          :  95  \n",
       " Secreted  : 594   Free         : 594   Tolerant to LoF  : 696  \n",
       " SingleTM  : 605   Mitochondrion: 155   Unclassified     :2092  \n",
       " Unattached: 750   Nucleus      : 430                           \n",
       "                   Organelle    : 484                           \n",
       "                   Unknown      :   0                           \n",
       " pc_mouse_gene_identity GTEX_median_all_tissues\n",
       " Min.   :  0.00         Min.   :   0.00        \n",
       " 1st Qu.: 77.87         1st Qu.:   0.11        \n",
       " Median : 87.31         Median :   0.87        \n",
       " Mean   : 82.68         Mean   :  10.69        \n",
       " 3rd Qu.: 93.49         3rd Qu.:   5.20        \n",
       " Max.   :100.00         Max.   :1488.58        \n",
       "                                               \n",
       "                                        description   clinical.outcome\n",
       " nuclear receptor subfamily 3 group C member 1:  68   Failure:2757    \n",
       " prostaglandin-endoperoxide synthase 2        :  68   Success:1290    \n",
       " prostaglandin-endoperoxide synthase 1        :  54                   \n",
       " tumor necrosis factor                        :  49                   \n",
       " dopamine receptor D2                         :  41                   \n",
       " 5-hydroxytryptamine receptor 1A              :  33                   \n",
       " (Other)                                      :3734                   "
      ]
     },
     "metadata": {},
     "output_type": "display_data"
    }
   ],
   "source": [
    "all.data <- pp.data %>%\n",
    "    filter(Clinical.Label_PP %in% c(\"Clinical Failure\", \n",
    "                                    \"Succeeded\")) %>%\n",
    "    inner_join(ot.data) %>%\n",
    "    left_join(otsource.data) %>%\n",
    "    left_join(ugene.data) %>%\n",
    "    mutate(clinical.outcome = \n",
    "           droplevels(recode_factor(Clinical.Label_PP, \n",
    "                                    `Clinical Failure` = \"Failure\", \n",
    "                                    `Succeeded` = \"Success\")))\n",
    "dim(all.data)\n",
    "summary(all.data)"
   ]
  },
  {
   "cell_type": "markdown",
   "metadata": {},
   "source": [
    "## Data Exploration\n",
    "In this section, we perform some basic exploratory data visualizations and summaries to understand the score and evidence distributions and their relationships with clinical success.\n",
    "\n",
    "### Quantitative Open Targets scores\n",
    "\n",
    "Put data into a long format to permit trellised ggplots"
   ]
  },
  {
   "cell_type": "code",
   "execution_count": 13,
   "metadata": {
    "collapsed": true
   },
   "outputs": [],
   "source": [
    "id.vars = c('key', 'symbol', 'disease_label')\n",
    "outcome.vars = c('Clinical.Label_PP', 'Furthest.Phase', \n",
    "                 'Therapeutic.Direction', 'clinical.outcome')\n",
    "ot.scores = c('genetic_association',\n",
    "              'known_drug', 'rna_expression',\n",
    "           'affected_pathway', 'animal_model', 'literature')\n",
    "otsrc.scores = c('expression_atlas', 'uniprot', 'gwas_catalog', \n",
    "                 'phewas_catalog',\n",
    "                 'eva', 'uniprot_literature', 'genomics_england', \n",
    "                 'gene2phenotype',\n",
    "                 'reactome', 'slapenrich', 'phenodigm', 'europepmc', \n",
    "                 'expression_score')\n",
    "gene.qvars = c('pc_mouse_gene_identity', 'GTEX_median_all_tissues')\n",
    "gene.cvars = c('protein_class', 'target_class', 'topology_type', \n",
    "               'target_location', 'ExAC_LoF')"
   ]
  },
  {
   "cell_type": "code",
   "execution_count": 14,
   "metadata": {
    "collapsed": true
   },
   "outputs": [],
   "source": [
    "all.long = gather(all.data[, c(id.vars, outcome.vars, ot.scores, \n",
    "                               otsrc.scores, gene.qvars)], \n",
    "                  datasource, score, \n",
    "                  genetic_association:GTEX_median_all_tissues, \n",
    "                  factor_key = TRUE)\n",
    "ot.long = gather(all.data[, c(id.vars, outcome.vars, ot.scores, \n",
    "                              otsrc.scores)], \n",
    "                 datasource, score, \n",
    "                 genetic_association:expression_score, \n",
    "                 factor_key = TRUE)"
   ]
  },
  {
   "cell_type": "code",
   "execution_count": 15,
   "metadata": {},
   "outputs": [
    {
     "data": {
      "text/html": [
       "<ol class=list-inline>\n",
       "\t<li>76893</li>\n",
       "\t<li>9</li>\n",
       "</ol>\n"
      ],
      "text/latex": [
       "\\begin{enumerate*}\n",
       "\\item 76893\n",
       "\\item 9\n",
       "\\end{enumerate*}\n"
      ],
      "text/markdown": [
       "1. 76893\n",
       "2. 9\n",
       "\n",
       "\n"
      ],
      "text/plain": [
       "[1] 76893     9"
      ]
     },
     "metadata": {},
     "output_type": "display_data"
    },
    {
     "data": {
      "text/plain": [
       "     key               symbol                            disease_label  \n",
       " Length:76893       Length:76893       rheumatoid arthritis     : 2432  \n",
       " Class :character   Class :character   psoriasis                : 2166  \n",
       " Mode  :character   Mode  :character   asthma                   : 1976  \n",
       "                                       pain                     : 1938  \n",
       "                                       Alzheimers disease       : 1387  \n",
       "                                       type II diabetes mellitus: 1387  \n",
       "                                       (Other)                  :65607  \n",
       "            Clinical.Label_PP            Furthest.Phase \n",
       " Clinical Failure    :52383   Clinical Phase I  :14763  \n",
       " In Progress Clinical:    0   Clinical Phase II :28348  \n",
       " Succeeded           :24510   Clinical Phase III: 8626  \n",
       "                              Succeeded         :24510  \n",
       "                              Withdrawn         :  646  \n",
       "                                                        \n",
       "                                                        \n",
       "      Therapeutic.Direction clinical.outcome               datasource   \n",
       " Activator       :16055     Failure:52383    genetic_association: 4047  \n",
       " Inhibitor       :42541     Success:24510    known_drug         : 4047  \n",
       " Mixed or Unknown:18297                      rna_expression     : 4047  \n",
       "                                             affected_pathway   : 4047  \n",
       "                                             animal_model       : 4047  \n",
       "                                             literature         : 4047  \n",
       "                                             (Other)            :52611  \n",
       "     score       \n",
       " Min.   :0.0000  \n",
       " 1st Qu.:0.0000  \n",
       " Median :0.0000  \n",
       " Mean   :0.1081  \n",
       " 3rd Qu.:0.0000  \n",
       " Max.   :1.5125  \n",
       "                 "
      ]
     },
     "metadata": {},
     "output_type": "display_data"
    }
   ],
   "source": [
    "dim(ot.long)\n",
    "summary(ot.long)"
   ]
  },
  {
   "cell_type": "code",
   "execution_count": 16,
   "metadata": {},
   "outputs": [
    {
     "data": {
      "image/png": "[encoded data removed]",
      "text/plain": [
       "plot without title"
      ]
     },
     "metadata": {},
     "output_type": "display_data"
    }
   ],
   "source": [
    "g = ggplot(all.long, aes(score)) +\n",
    "  geom_histogram(bins = 10) + \n",
    "  facet_wrap(~datasource, scales = \"free\")\n",
    "print(g)"
   ]
  },
  {
   "cell_type": "code",
   "execution_count": 17,
   "metadata": {},
   "outputs": [
    {
     "name": "stderr",
     "output_type": "stream",
     "text": [
      "`geom_smooth()` using method = 'gam'\n",
      "Warning message:\n",
      "\"Computation failed in `stat_smooth()`:\n",
      "x has insufficient unique values to support 10 knots: reduce k.\"Warning message:\n",
      "\"Computation failed in `stat_smooth()`:\n",
      "x has insufficient unique values to support 10 knots: reduce k.\"Warning message:\n",
      "\"Computation failed in `stat_smooth()`:\n",
      "x has insufficient unique values to support 10 knots: reduce k.\"Warning message:\n",
      "\"Computation failed in `stat_smooth()`:\n",
      "x has insufficient unique values to support 10 knots: reduce k.\"Warning message:\n",
      "\"Computation failed in `stat_smooth()`:\n",
      "x has insufficient unique values to support 10 knots: reduce k.\""
     ]
    },
    {
     "data": {
      "image/png": "[encoded data removed]",
      "text/plain": [
       "plot without title"
      ]
     },
     "metadata": {},
     "output_type": "display_data"
    }
   ],
   "source": [
    "g = ggplot(all.long, aes(score, as.numeric(clinical.outcome) - 1)) +\n",
    "    geom_point(alpha = 0.2) +  \n",
    "    stat_smooth(geom = \"line\", n = 10, color = \"red\") + \n",
    "    facet_wrap(~datasource, scales = \"free\")\n",
    "print(g)"
   ]
  },
  {
   "cell_type": "markdown",
   "metadata": {
    "collapsed": true
   },
   "source": [
    "### Converting scores into binary measures of positive and negative evidence\n",
    "\n",
    "Looking at the relationship between the various Open Targets scores and T-I success, it appears that score values below 0.25 are generally associated with lower success rates, though this varies for many score types.  Let's set a threshold value of 0.1 and call everything that exceeds that as having positive evidence."
   ]
  },
  {
   "cell_type": "code",
   "execution_count": 18,
   "metadata": {},
   "outputs": [
    {
     "data": {
      "text/html": [
       "<table>\n",
       "<thead><tr><th></th><th scope=col>Negative</th><th scope=col>Positive</th></tr></thead>\n",
       "<tbody>\n",
       "\t<tr><th scope=row>genetic_association.pos</th><td>1346</td><td>2701</td></tr>\n",
       "\t<tr><th scope=row>known_drug.pos</th><td>4014</td><td>  33</td></tr>\n",
       "\t<tr><th scope=row>rna_expression.pos</th><td>1780</td><td>2267</td></tr>\n",
       "\t<tr><th scope=row>affected_pathway.pos</th><td>4047</td><td>4047</td></tr>\n",
       "\t<tr><th scope=row>animal_model.pos</th><td>3990</td><td>  57</td></tr>\n",
       "\t<tr><th scope=row>literature.pos</th><td>3879</td><td> 168</td></tr>\n",
       "\t<tr><th scope=row>expression_atlas.pos</th><td>1346</td><td>2701</td></tr>\n",
       "\t<tr><th scope=row>uniprot.pos</th><td>4047</td><td>4047</td></tr>\n",
       "\t<tr><th scope=row>gwas_catalog.pos</th><td>3965</td><td>  82</td></tr>\n",
       "\t<tr><th scope=row>phewas_catalog.pos</th><td>3871</td><td> 176</td></tr>\n",
       "\t<tr><th scope=row>eva.pos</th><td>4044</td><td>   3</td></tr>\n",
       "\t<tr><th scope=row>uniprot_literature.pos</th><td>3949</td><td>  98</td></tr>\n",
       "\t<tr><th scope=row>genomics_england.pos</th><td>3948</td><td>  99</td></tr>\n",
       "\t<tr><th scope=row>gene2phenotype.pos</th><td>3957</td><td>  90</td></tr>\n",
       "\t<tr><th scope=row>reactome.pos</th><td>4022</td><td>  25</td></tr>\n",
       "\t<tr><th scope=row>slapenrich.pos</th><td>4023</td><td>  24</td></tr>\n",
       "\t<tr><th scope=row>phenodigm.pos</th><td>4014</td><td>  33</td></tr>\n",
       "\t<tr><th scope=row>europepmc.pos</th><td>1780</td><td>2267</td></tr>\n",
       "\t<tr><th scope=row>expression_score.pos</th><td>3694</td><td> 353</td></tr>\n",
       "</tbody>\n",
       "</table>\n"
      ],
      "text/latex": [
       "\\begin{tabular}{r|ll}\n",
       "  & Negative & Positive\\\\\n",
       "\\hline\n",
       "\tgenetic\\_association.pos & 1346 & 2701\\\\\n",
       "\tknown\\_drug.pos & 4014 &   33\\\\\n",
       "\trna\\_expression.pos & 1780 & 2267\\\\\n",
       "\taffected\\_pathway.pos & 4047 & 4047\\\\\n",
       "\tanimal\\_model.pos & 3990 &   57\\\\\n",
       "\tliterature.pos & 3879 &  168\\\\\n",
       "\texpression\\_atlas.pos & 1346 & 2701\\\\\n",
       "\tuniprot.pos & 4047 & 4047\\\\\n",
       "\tgwas\\_catalog.pos & 3965 &   82\\\\\n",
       "\tphewas\\_catalog.pos & 3871 &  176\\\\\n",
       "\teva.pos & 4044 &    3\\\\\n",
       "\tuniprot\\_literature.pos & 3949 &   98\\\\\n",
       "\tgenomics\\_england.pos & 3948 &   99\\\\\n",
       "\tgene2phenotype.pos & 3957 &   90\\\\\n",
       "\treactome.pos & 4022 &   25\\\\\n",
       "\tslapenrich.pos & 4023 &   24\\\\\n",
       "\tphenodigm.pos & 4014 &   33\\\\\n",
       "\teuropepmc.pos & 1780 & 2267\\\\\n",
       "\texpression\\_score.pos & 3694 &  353\\\\\n",
       "\\end{tabular}\n"
      ],
      "text/markdown": [
       "\n",
       "| <!--/--> | Negative | Positive | \n",
       "|---|---|---|---|---|---|---|---|---|---|---|---|---|---|---|---|---|---|---|\n",
       "| genetic_association.pos | 1346 | 2701 | \n",
       "| known_drug.pos | 4014 |   33 | \n",
       "| rna_expression.pos | 1780 | 2267 | \n",
       "| affected_pathway.pos | 4047 | 4047 | \n",
       "| animal_model.pos | 3990 |   57 | \n",
       "| literature.pos | 3879 |  168 | \n",
       "| expression_atlas.pos | 1346 | 2701 | \n",
       "| uniprot.pos | 4047 | 4047 | \n",
       "| gwas_catalog.pos | 3965 |   82 | \n",
       "| phewas_catalog.pos | 3871 |  176 | \n",
       "| eva.pos | 4044 |    3 | \n",
       "| uniprot_literature.pos | 3949 |   98 | \n",
       "| genomics_england.pos | 3948 |   99 | \n",
       "| gene2phenotype.pos | 3957 |   90 | \n",
       "| reactome.pos | 4022 |   25 | \n",
       "| slapenrich.pos | 4023 |   24 | \n",
       "| phenodigm.pos | 4014 |   33 | \n",
       "| europepmc.pos | 1780 | 2267 | \n",
       "| expression_score.pos | 3694 |  353 | \n",
       "\n",
       "\n"
      ],
      "text/plain": [
       "                        Negative Positive\n",
       "genetic_association.pos 1346     2701    \n",
       "known_drug.pos          4014       33    \n",
       "rna_expression.pos      1780     2267    \n",
       "affected_pathway.pos    4047     4047    \n",
       "animal_model.pos        3990       57    \n",
       "literature.pos          3879      168    \n",
       "expression_atlas.pos    1346     2701    \n",
       "uniprot.pos             4047     4047    \n",
       "gwas_catalog.pos        3965       82    \n",
       "phewas_catalog.pos      3871      176    \n",
       "eva.pos                 4044        3    \n",
       "uniprot_literature.pos  3949       98    \n",
       "genomics_england.pos    3948       99    \n",
       "gene2phenotype.pos      3957       90    \n",
       "reactome.pos            4022       25    \n",
       "slapenrich.pos          4023       24    \n",
       "phenodigm.pos           4014       33    \n",
       "europepmc.pos           1780     2267    \n",
       "expression_score.pos    3694      353    "
      ]
     },
     "metadata": {},
     "output_type": "display_data"
    }
   ],
   "source": [
    "pos.score.vars = paste(c(ot.scores, otsrc.scores), \".pos\", sep = \"\")\n",
    "names(pos.score.vars) = c(ot.scores, otsrc.scores)\n",
    "for(i in names(pos.score.vars)) {\n",
    "    all.data[, pos.score.vars[i]] = cut(all.data[, i], c(0, 0.1, 100), \n",
    "                                        labels = c(\"Negative\", \"Positive\"),\n",
    "                                        include.lowest = TRUE)\n",
    "}\n",
    "do.call(\"rbind\", apply(all.data[, pos.score.vars], 2, table))"
   ]
  },
  {
   "cell_type": "code",
   "execution_count": 19,
   "metadata": {},
   "outputs": [
    {
     "data": {
      "text/html": [
       "<table>\n",
       "<thead><tr><th></th><th scope=col>OR</th><th scope=col>Lower</th><th scope=col>Upper</th></tr></thead>\n",
       "<tbody>\n",
       "\t<tr><th scope=row>genetic_association.pos</th><td>3.4523682 </td><td>2.9222694 </td><td>  4.090734</td></tr>\n",
       "\t<tr><th scope=row>known_drug.pos</th><td>0.9286864 </td><td>0.3933594 </td><td>  2.035838</td></tr>\n",
       "\t<tr><th scope=row>rna_expression.pos</th><td>3.7144895 </td><td>3.1949489 </td><td>  4.325741</td></tr>\n",
       "\t<tr><th scope=row>affected_pathway.pos</th><td>0.0000000 </td><td>0.0000000 </td><td>       Inf</td></tr>\n",
       "\t<tr><th scope=row>animal_model.pos</th><td>1.5646741 </td><td>0.8808883 </td><td>  2.741718</td></tr>\n",
       "\t<tr><th scope=row>literature.pos</th><td>1.3671568 </td><td>0.9789196 </td><td>  1.897862</td></tr>\n",
       "\t<tr><th scope=row>expression_atlas.pos</th><td>3.4523682 </td><td>2.9222694 </td><td>  4.090734</td></tr>\n",
       "\t<tr><th scope=row>uniprot.pos</th><td>0.0000000 </td><td>0.0000000 </td><td>       Inf</td></tr>\n",
       "\t<tr><th scope=row>gwas_catalog.pos</th><td>1.7792583 </td><td>1.1137054 </td><td>  2.827303</td></tr>\n",
       "\t<tr><th scope=row>phewas_catalog.pos</th><td>0.9436282 </td><td>0.6669673 </td><td>  1.320463</td></tr>\n",
       "\t<tr><th scope=row>eva.pos</th><td>4.2777800 </td><td>0.2225089 </td><td>252.170065</td></tr>\n",
       "\t<tr><th scope=row>uniprot_literature.pos</th><td>1.7672575 </td><td>1.1524474 </td><td>  2.697760</td></tr>\n",
       "\t<tr><th scope=row>genomics_england.pos</th><td>2.0502396 </td><td>1.3448570 </td><td>  3.121098</td></tr>\n",
       "\t<tr><th scope=row>gene2phenotype.pos</th><td>1.9879581 </td><td>1.2759333 </td><td>  3.090268</td></tr>\n",
       "\t<tr><th scope=row>reactome.pos</th><td>2.3281882 </td><td>0.9763370 </td><td>  5.599475</td></tr>\n",
       "\t<tr><th scope=row>slapenrich.pos</th><td>2.1474860 </td><td>0.8797479 </td><td>  5.242341</td></tr>\n",
       "\t<tr><th scope=row>phenodigm.pos</th><td>1.2232484 </td><td>0.5468556 </td><td>  2.612753</td></tr>\n",
       "\t<tr><th scope=row>europepmc.pos</th><td>3.7144895 </td><td>3.1949489 </td><td>  4.325741</td></tr>\n",
       "\t<tr><th scope=row>expression_score.pos</th><td>1.8808130 </td><td>1.4977330 </td><td>  2.359559</td></tr>\n",
       "</tbody>\n",
       "</table>\n"
      ],
      "text/latex": [
       "\\begin{tabular}{r|lll}\n",
       "  & OR & Lower & Upper\\\\\n",
       "\\hline\n",
       "\tgenetic\\_association.pos & 3.4523682  & 2.9222694  &   4.090734\\\\\n",
       "\tknown\\_drug.pos & 0.9286864  & 0.3933594  &   2.035838\\\\\n",
       "\trna\\_expression.pos & 3.7144895  & 3.1949489  &   4.325741\\\\\n",
       "\taffected\\_pathway.pos & 0.0000000  & 0.0000000  &        Inf\\\\\n",
       "\tanimal\\_model.pos & 1.5646741  & 0.8808883  &   2.741718\\\\\n",
       "\tliterature.pos & 1.3671568  & 0.9789196  &   1.897862\\\\\n",
       "\texpression\\_atlas.pos & 3.4523682  & 2.9222694  &   4.090734\\\\\n",
       "\tuniprot.pos & 0.0000000  & 0.0000000  &        Inf\\\\\n",
       "\tgwas\\_catalog.pos & 1.7792583  & 1.1137054  &   2.827303\\\\\n",
       "\tphewas\\_catalog.pos & 0.9436282  & 0.6669673  &   1.320463\\\\\n",
       "\teva.pos & 4.2777800  & 0.2225089  & 252.170065\\\\\n",
       "\tuniprot\\_literature.pos & 1.7672575  & 1.1524474  &   2.697760\\\\\n",
       "\tgenomics\\_england.pos & 2.0502396  & 1.3448570  &   3.121098\\\\\n",
       "\tgene2phenotype.pos & 1.9879581  & 1.2759333  &   3.090268\\\\\n",
       "\treactome.pos & 2.3281882  & 0.9763370  &   5.599475\\\\\n",
       "\tslapenrich.pos & 2.1474860  & 0.8797479  &   5.242341\\\\\n",
       "\tphenodigm.pos & 1.2232484  & 0.5468556  &   2.612753\\\\\n",
       "\teuropepmc.pos & 3.7144895  & 3.1949489  &   4.325741\\\\\n",
       "\texpression\\_score.pos & 1.8808130  & 1.4977330  &   2.359559\\\\\n",
       "\\end{tabular}\n"
      ],
      "text/markdown": [
       "\n",
       "| <!--/--> | OR | Lower | Upper | \n",
       "|---|---|---|---|---|---|---|---|---|---|---|---|---|---|---|---|---|---|---|\n",
       "| genetic_association.pos | 3.4523682  | 2.9222694  |   4.090734 | \n",
       "| known_drug.pos | 0.9286864  | 0.3933594  |   2.035838 | \n",
       "| rna_expression.pos | 3.7144895  | 3.1949489  |   4.325741 | \n",
       "| affected_pathway.pos | 0.0000000  | 0.0000000  |        Inf | \n",
       "| animal_model.pos | 1.5646741  | 0.8808883  |   2.741718 | \n",
       "| literature.pos | 1.3671568  | 0.9789196  |   1.897862 | \n",
       "| expression_atlas.pos | 3.4523682  | 2.9222694  |   4.090734 | \n",
       "| uniprot.pos | 0.0000000  | 0.0000000  |        Inf | \n",
       "| gwas_catalog.pos | 1.7792583  | 1.1137054  |   2.827303 | \n",
       "| phewas_catalog.pos | 0.9436282  | 0.6669673  |   1.320463 | \n",
       "| eva.pos | 4.2777800  | 0.2225089  | 252.170065 | \n",
       "| uniprot_literature.pos | 1.7672575  | 1.1524474  |   2.697760 | \n",
       "| genomics_england.pos | 2.0502396  | 1.3448570  |   3.121098 | \n",
       "| gene2phenotype.pos | 1.9879581  | 1.2759333  |   3.090268 | \n",
       "| reactome.pos | 2.3281882  | 0.9763370  |   5.599475 | \n",
       "| slapenrich.pos | 2.1474860  | 0.8797479  |   5.242341 | \n",
       "| phenodigm.pos | 1.2232484  | 0.5468556  |   2.612753 | \n",
       "| europepmc.pos | 3.7144895  | 3.1949489  |   4.325741 | \n",
       "| expression_score.pos | 1.8808130  | 1.4977330  |   2.359559 | \n",
       "\n",
       "\n"
      ],
      "text/plain": [
       "                        OR        Lower     Upper     \n",
       "genetic_association.pos 3.4523682 2.9222694   4.090734\n",
       "known_drug.pos          0.9286864 0.3933594   2.035838\n",
       "rna_expression.pos      3.7144895 3.1949489   4.325741\n",
       "affected_pathway.pos    0.0000000 0.0000000        Inf\n",
       "animal_model.pos        1.5646741 0.8808883   2.741718\n",
       "literature.pos          1.3671568 0.9789196   1.897862\n",
       "expression_atlas.pos    3.4523682 2.9222694   4.090734\n",
       "uniprot.pos             0.0000000 0.0000000        Inf\n",
       "gwas_catalog.pos        1.7792583 1.1137054   2.827303\n",
       "phewas_catalog.pos      0.9436282 0.6669673   1.320463\n",
       "eva.pos                 4.2777800 0.2225089 252.170065\n",
       "uniprot_literature.pos  1.7672575 1.1524474   2.697760\n",
       "genomics_england.pos    2.0502396 1.3448570   3.121098\n",
       "gene2phenotype.pos      1.9879581 1.2759333   3.090268\n",
       "reactome.pos            2.3281882 0.9763370   5.599475\n",
       "slapenrich.pos          2.1474860 0.8797479   5.242341\n",
       "phenodigm.pos           1.2232484 0.5468556   2.612753\n",
       "europepmc.pos           3.7144895 3.1949489   4.325741\n",
       "expression_score.pos    1.8808130 1.4977330   2.359559"
      ]
     },
     "metadata": {},
     "output_type": "display_data"
    }
   ],
   "source": [
    "or.mat = matrix(NA, ncol = 3, nrow = length(pos.score.vars), \n",
    "               dimnames = list(pos.score.vars, \n",
    "                               c(\"OR\", \"Lower\", \"Upper\")))\n",
    "or.list = list()\n",
    "for(i in pos.score.vars) {\n",
    "    or.list[[i]][[\"Table\"]] = table(all.data[, \"clinical.outcome\"], \n",
    "                                    all.data[, i])\n",
    "    or.list[[i]][[\"Test\"]] = fisher.test(or.list[[i]][[\"Table\"]])\n",
    "    or.mat[i,] = unlist(or.list[[i]][[\"Test\"]][c(\"estimate\", \"conf.int\")])\n",
    "}\n",
    "or.mat"
   ]
  },
  {
   "cell_type": "markdown",
   "metadata": {},
   "source": [
    "Repeat categorization for human-mouse protein sequence identity and GTEx median tissue (not currently in Open Targets).\n"
   ]
  },
  {
   "cell_type": "code",
   "execution_count": 20,
   "metadata": {},
   "outputs": [
    {
     "data": {
      "text/html": [
       "<table>\n",
       "<thead><tr><th></th><th scope=col>pc_mouse_gene_identity.pos</th><th scope=col>GTEX_median_all_tissues.pos</th></tr></thead>\n",
       "<tbody>\n",
       "\t<tr><th scope=row>Negative</th><td> 593</td><td>2317</td></tr>\n",
       "\t<tr><th scope=row>Positive</th><td>3454</td><td>1730</td></tr>\n",
       "</tbody>\n",
       "</table>\n"
      ],
      "text/latex": [
       "\\begin{tabular}{r|ll}\n",
       "  & pc\\_mouse\\_gene\\_identity.pos & GTEX\\_median\\_all\\_tissues.pos\\\\\n",
       "\\hline\n",
       "\tNegative &  593 & 2317\\\\\n",
       "\tPositive & 3454 & 1730\\\\\n",
       "\\end{tabular}\n"
      ],
      "text/markdown": [
       "\n",
       "| <!--/--> | pc_mouse_gene_identity.pos | GTEX_median_all_tissues.pos | \n",
       "|---|---|\n",
       "| Negative |  593 | 2317 | \n",
       "| Positive | 3454 | 1730 | \n",
       "\n",
       "\n"
      ],
      "text/plain": [
       "         pc_mouse_gene_identity.pos GTEX_median_all_tissues.pos\n",
       "Negative  593                       2317                       \n",
       "Positive 3454                       1730                       "
      ]
     },
     "metadata": {},
     "output_type": "display_data"
    }
   ],
   "source": [
    "pos.gene.qvars = paste(gene.qvars, \".pos\", sep = \"\")\n",
    "all.data = all.data %>%\n",
    "    mutate(pc_mouse_gene_identity.pos = \n",
    "           ifelse(pc_mouse_gene_identity > 70, \"Positive\", \"Negative\")) %>%\n",
    "    mutate(GTEX_median_all_tissues.pos = \n",
    "           ifelse(GTEX_median_all_tissues < 0.5, \"Positive\", \"Negative\"))\n",
    "apply(all.data[, pos.gene.qvars], 2, table)"
   ]
  },
  {
   "cell_type": "code",
   "execution_count": 21,
   "metadata": {},
   "outputs": [
    {
     "data": {
      "text/html": [
       "<table>\n",
       "<thead><tr><th></th><th scope=col>OR</th><th scope=col>Lower</th><th scope=col>Upper</th></tr></thead>\n",
       "<tbody>\n",
       "\t<tr><th scope=row>pc_mouse_gene_identity.pos</th><td>1.761191</td><td>1.429009</td><td>2.181400</td></tr>\n",
       "\t<tr><th scope=row>GTEX_median_all_tissues.pos</th><td>1.287073</td><td>1.124078</td><td>1.473687</td></tr>\n",
       "</tbody>\n",
       "</table>\n"
      ],
      "text/latex": [
       "\\begin{tabular}{r|lll}\n",
       "  & OR & Lower & Upper\\\\\n",
       "\\hline\n",
       "\tpc\\_mouse\\_gene\\_identity.pos & 1.761191 & 1.429009 & 2.181400\\\\\n",
       "\tGTEX\\_median\\_all\\_tissues.pos & 1.287073 & 1.124078 & 1.473687\\\\\n",
       "\\end{tabular}\n"
      ],
      "text/markdown": [
       "\n",
       "| <!--/--> | OR | Lower | Upper | \n",
       "|---|---|\n",
       "| pc_mouse_gene_identity.pos | 1.761191 | 1.429009 | 2.181400 | \n",
       "| GTEX_median_all_tissues.pos | 1.287073 | 1.124078 | 1.473687 | \n",
       "\n",
       "\n"
      ],
      "text/plain": [
       "                            OR       Lower    Upper   \n",
       "pc_mouse_gene_identity.pos  1.761191 1.429009 2.181400\n",
       "GTEX_median_all_tissues.pos 1.287073 1.124078 1.473687"
      ]
     },
     "metadata": {},
     "output_type": "display_data"
    }
   ],
   "source": [
    "or.mat = matrix(NA, ncol = 3, nrow = length(pos.gene.qvars), \n",
    "               dimnames = list(pos.gene.qvars, c(\"OR\", \"Lower\", \"Upper\")))\n",
    "or.list = list()\n",
    "for(i in pos.gene.qvars) {\n",
    "    or.list[[i]][[\"Table\"]] = table(all.data[, \"clinical.outcome\"], \n",
    "                                    all.data[, i])\n",
    "    or.list[[i]][[\"Test\"]] = fisher.test(or.list[[i]][[\"Table\"]])\n",
    "    or.mat[i,] = unlist(or.list[[i]][[\"Test\"]][c(\"estimate\", \"conf.int\")])\n",
    "}\n",
    "or.mat"
   ]
  },
  {
   "cell_type": "markdown",
   "metadata": {},
   "source": [
    "### Categorical gene features\n"
   ]
  },
  {
   "cell_type": "code",
   "execution_count": 22,
   "metadata": {},
   "outputs": [
    {
     "data": {
      "text/plain": [
       "            protein_class                target_class     topology_type \n",
       " Secreted protein  : 238   7TM_Group1          : 994   Membrane  : 354  \n",
       " Oxidoreductase    : 225   Enzyme_all_others   : 535   MultiTM   :1744  \n",
       " Membrane receptor : 219   Receptor_all_others : 440   Secreted  : 594  \n",
       " Enzyme            : 184   Ion Channel         : 384   SingleTM  : 605  \n",
       " Serotonin receptor: 145   Extracellular Ligand: 310   Unattached: 750  \n",
       " (Other)           :2747   Kinase_Protein      : 240                    \n",
       " NA's              : 289   (Other)             :1144                    \n",
       "      target_location              ExAC_LoF   \n",
       " Cytoplasm    : 212   Intolerant to LoF:1164  \n",
       " Exposed      :2172   Missing          :  95  \n",
       " Free         : 594   Tolerant to LoF  : 696  \n",
       " Mitochondrion: 155   Unclassified     :2092  \n",
       " Nucleus      : 430                           \n",
       " Organelle    : 484                           \n",
       " Unknown      :   0                           "
      ]
     },
     "metadata": {},
     "output_type": "display_data"
    }
   ],
   "source": [
    "summary((all.data[, gene.cvars]))"
   ]
  },
  {
   "cell_type": "code",
   "execution_count": 23,
   "metadata": {},
   "outputs": [
    {
     "data": {
      "text/plain": [
       "\n",
       "Call:\n",
       "glm(formula = clinical.outcome ~ pcred, family = binomial(link = \"logit\"), \n",
       "    data = all.data)\n",
       "\n",
       "Deviance Residuals: \n",
       "   Min      1Q  Median      3Q     Max  \n",
       "-1.665  -0.693  -0.693   1.114   2.797  \n",
       "\n",
       "Coefficients:\n",
       "                                                           Estimate Std. Error\n",
       "(Intercept)                                                  0.8842     0.2727\n",
       "pcredAdrenergic receptor                                    -0.4395     0.3274\n",
       "pcredCC chemokine receptor                                  -4.7760     1.0463\n",
       "pcredDopamine receptor                                      -1.1355     0.3416\n",
       "pcredEnzyme                                                 -2.7813     0.3497\n",
       "pcredGABA-A receptor                                        -0.7431     0.3619\n",
       "pcredHistamine receptor                                     -1.0993     0.3829\n",
       "pcredHydrolase                                              -0.8465     0.3871\n",
       "pcredMembrane receptor                                      -1.3202     0.3058\n",
       "pcredNuclear hormone receptor subfamily 3 group C member 1   0.2144     0.3909\n",
       "pcredOpioid receptor                                        -0.8543     0.3662\n",
       "pcredOther                                                  -2.1882     0.2782\n",
       "pcredOxidoreductase                                         -0.7328     0.3037\n",
       "pcredProstanoid receptor                                    -2.4482     0.4569\n",
       "pcredSecreted protein                                       -1.7800     0.3079\n",
       "pcredSerine protease S1A subfamily                          -0.4787     0.3406\n",
       "pcredSerotonin receptor                                     -1.3475     0.3217\n",
       "pcredSLC06 neurotransmitter transporter family              -0.9565     0.3502\n",
       "pcredUnclassified protein                                   -1.9828     0.3674\n",
       "pcredVoltage-gated sodium channel                           -0.8568     0.3594\n",
       "                                                           z value Pr(>|z|)    \n",
       "(Intercept)                                                  3.242 0.001186 ** \n",
       "pcredAdrenergic receptor                                    -1.342 0.179453    \n",
       "pcredCC chemokine receptor                                  -4.565 5.00e-06 ***\n",
       "pcredDopamine receptor                                      -3.324 0.000887 ***\n",
       "pcredEnzyme                                                 -7.954 1.81e-15 ***\n",
       "pcredGABA-A receptor                                        -2.053 0.040048 *  \n",
       "pcredHistamine receptor                                     -2.871 0.004094 ** \n",
       "pcredHydrolase                                              -2.187 0.028778 *  \n",
       "pcredMembrane receptor                                      -4.317 1.58e-05 ***\n",
       "pcredNuclear hormone receptor subfamily 3 group C member 1   0.549 0.583346    \n",
       "pcredOpioid receptor                                        -2.333 0.019640 *  \n",
       "pcredOther                                                  -7.867 3.64e-15 ***\n",
       "pcredOxidoreductase                                         -2.413 0.015835 *  \n",
       "pcredProstanoid receptor                                    -5.358 8.39e-08 ***\n",
       "pcredSecreted protein                                       -5.782 7.39e-09 ***\n",
       "pcredSerine protease S1A subfamily                          -1.405 0.159904    \n",
       "pcredSerotonin receptor                                     -4.189 2.80e-05 ***\n",
       "pcredSLC06 neurotransmitter transporter family              -2.732 0.006304 ** \n",
       "pcredUnclassified protein                                   -5.397 6.78e-08 ***\n",
       "pcredVoltage-gated sodium channel                           -2.384 0.017129 *  \n",
       "---\n",
       "Signif. codes:  0 '***' 0.001 '**' 0.01 '*' 0.05 '.' 0.1 ' ' 1\n",
       "\n",
       "(Dispersion parameter for binomial family taken to be 1)\n",
       "\n",
       "    Null deviance: 5066.3  on 4046  degrees of freedom\n",
       "Residual deviance: 4593.0  on 4027  degrees of freedom\n",
       "AIC: 4633\n",
       "\n",
       "Number of Fisher Scoring iterations: 6\n"
      ]
     },
     "metadata": {},
     "output_type": "display_data"
    },
    {
     "data": {
      "text/html": [
       "<table>\n",
       "<thead><tr><th></th><th scope=col>Df</th><th scope=col>Deviance</th><th scope=col>Resid. Df</th><th scope=col>Resid. Dev</th><th scope=col>Pr(&gt;Chi)</th></tr></thead>\n",
       "<tbody>\n",
       "\t<tr><th scope=row>NULL</th><td>NA          </td><td>      NA    </td><td>4046        </td><td>5066.255    </td><td>          NA</td></tr>\n",
       "\t<tr><th scope=row>pcred</th><td>19          </td><td>473.2993    </td><td>4027        </td><td>4592.955    </td><td>2.205321e-88</td></tr>\n",
       "</tbody>\n",
       "</table>\n"
      ],
      "text/latex": [
       "\\begin{tabular}{r|lllll}\n",
       "  & Df & Deviance & Resid. Df & Resid. Dev & Pr(>Chi)\\\\\n",
       "\\hline\n",
       "\tNULL & NA           &       NA     & 4046         & 5066.255     &           NA\\\\\n",
       "\tpcred & 19           & 473.2993     & 4027         & 4592.955     & 2.205321e-88\\\\\n",
       "\\end{tabular}\n"
      ],
      "text/markdown": [
       "\n",
       "| <!--/--> | Df | Deviance | Resid. Df | Resid. Dev | Pr(>Chi) | \n",
       "|---|---|\n",
       "| NULL | NA           |       NA     | 4046         | 5066.255     |           NA | \n",
       "| pcred | 19           | 473.2993     | 4027         | 4592.955     | 2.205321e-88 | \n",
       "\n",
       "\n"
      ],
      "text/plain": [
       "      Df Deviance Resid. Df Resid. Dev Pr(>Chi)    \n",
       "NULL  NA       NA 4046      5066.255             NA\n",
       "pcred 19 473.2993 4027      4592.955   2.205321e-88"
      ]
     },
     "metadata": {},
     "output_type": "display_data"
    }
   ],
   "source": [
    "protein.classes = table(all.data$protein_class)\n",
    "common.protein.classes = names(protein.classes[protein.classes >= 50])\n",
    "all.data$pcred = as.character(all.data$protein_class)\n",
    "all.data$pcred[!(all.data$pcred %in% common.protein.classes)] = \"Other\"\n",
    "g = glm(clinical.outcome ~ pcred, all.data, family = binomial(link = \"logit\"))\n",
    "summary(g)\n",
    "anova(g, test = \"Chisq\")"
   ]
  },
  {
   "cell_type": "code",
   "execution_count": 24,
   "metadata": {},
   "outputs": [
    {
     "data": {
      "text/plain": [
       "\n",
       "Call:\n",
       "glm(formula = clinical.outcome ~ target_class, family = binomial(link = \"logit\"), \n",
       "    data = all.data)\n",
       "\n",
       "Deviance Residuals: \n",
       "    Min       1Q   Median       3Q      Max  \n",
       "-1.1542  -0.9553  -0.7705   1.4020   2.0729  \n",
       "\n",
       "Coefficients:\n",
       "                                              Estimate Std. Error z value\n",
       "(Intercept)                                   -1.26976    0.22635  -5.610\n",
       "target_class7TM_Group1                         0.75571    0.23565   3.207\n",
       "target_classEnzyme_all_others                  0.72188    0.24349   2.965\n",
       "target_classEnzyme_Esterase                    0.26010    0.28331   0.918\n",
       "target_classEnzyme_Transferase                 0.06579    0.51759   0.127\n",
       "target_classExtracellular Ligand              -0.19923    0.26916  -0.740\n",
       "target_classExtracellular_all_others          -0.21832    0.37255  -0.586\n",
       "target_classIon Channel                        0.69168    0.25009   2.766\n",
       "target_classKinase_Protein                    -0.75462    0.30276  -2.492\n",
       "target_classNuclear Receptor                   1.14520    0.26542   4.315\n",
       "target_classOther                              0.50762    0.30519   1.663\n",
       "target_classProtease                           0.64878    0.26589   2.440\n",
       "target_classReceptor_all_others                0.20719    0.25128   0.825\n",
       "target_classTranscriptional_Factor_all_others -0.35948    0.41333  -0.870\n",
       "target_classTransporter                        1.21495    0.28045   4.332\n",
       "                                              Pr(>|z|)    \n",
       "(Intercept)                                   2.03e-08 ***\n",
       "target_class7TM_Group1                         0.00134 ** \n",
       "target_classEnzyme_all_others                  0.00303 ** \n",
       "target_classEnzyme_Esterase                    0.35859    \n",
       "target_classEnzyme_Transferase                 0.89886    \n",
       "target_classExtracellular Ligand               0.45919    \n",
       "target_classExtracellular_all_others           0.55787    \n",
       "target_classIon Channel                        0.00568 ** \n",
       "target_classKinase_Protein                     0.01269 *  \n",
       "target_classNuclear Receptor                  1.60e-05 ***\n",
       "target_classOther                              0.09625 .  \n",
       "target_classProtease                           0.01469 *  \n",
       "target_classReceptor_all_others                0.40964    \n",
       "target_classTranscriptional_Factor_all_others  0.38446    \n",
       "target_classTransporter                       1.48e-05 ***\n",
       "---\n",
       "Signif. codes:  0 '***' 0.001 '**' 0.01 '*' 0.05 '.' 0.1 ' ' 1\n",
       "\n",
       "(Dispersion parameter for binomial family taken to be 1)\n",
       "\n",
       "    Null deviance: 5066.3  on 4046  degrees of freedom\n",
       "Residual deviance: 4892.7  on 4032  degrees of freedom\n",
       "AIC: 4922.7\n",
       "\n",
       "Number of Fisher Scoring iterations: 4\n"
      ]
     },
     "metadata": {},
     "output_type": "display_data"
    },
    {
     "data": {
      "text/html": [
       "<table>\n",
       "<thead><tr><th></th><th scope=col>Df</th><th scope=col>Deviance</th><th scope=col>Resid. Df</th><th scope=col>Resid. Dev</th><th scope=col>Pr(&gt;Chi)</th></tr></thead>\n",
       "<tbody>\n",
       "\t<tr><th scope=row>NULL</th><td>NA         </td><td>      NA   </td><td>4046       </td><td>5066.255   </td><td>         NA</td></tr>\n",
       "\t<tr><th scope=row>target_class</th><td>14         </td><td>173.5554   </td><td>4032       </td><td>4892.699   </td><td>1.30849e-29</td></tr>\n",
       "</tbody>\n",
       "</table>\n"
      ],
      "text/latex": [
       "\\begin{tabular}{r|lllll}\n",
       "  & Df & Deviance & Resid. Df & Resid. Dev & Pr(>Chi)\\\\\n",
       "\\hline\n",
       "\tNULL & NA          &       NA    & 4046        & 5066.255    &          NA\\\\\n",
       "\ttarget\\_class & 14          & 173.5554    & 4032        & 4892.699    & 1.30849e-29\\\\\n",
       "\\end{tabular}\n"
      ],
      "text/markdown": [
       "\n",
       "| <!--/--> | Df | Deviance | Resid. Df | Resid. Dev | Pr(>Chi) | \n",
       "|---|---|\n",
       "| NULL | NA          |       NA    | 4046        | 5066.255    |          NA | \n",
       "| target_class | 14          | 173.5554    | 4032        | 4892.699    | 1.30849e-29 | \n",
       "\n",
       "\n"
      ],
      "text/plain": [
       "             Df Deviance Resid. Df Resid. Dev Pr(>Chi)   \n",
       "NULL         NA       NA 4046      5066.255            NA\n",
       "target_class 14 173.5554 4032      4892.699   1.30849e-29"
      ]
     },
     "metadata": {},
     "output_type": "display_data"
    }
   ],
   "source": [
    "g = glm(clinical.outcome ~ target_class, all.data, \n",
    "        family = binomial(link = \"logit\"))\n",
    "summary(g)\n",
    "anova(g, test = \"Chisq\")"
   ]
  },
  {
   "cell_type": "code",
   "execution_count": 25,
   "metadata": {},
   "outputs": [
    {
     "data": {
      "text/plain": [
       "\n",
       "Call:\n",
       "glm(formula = clinical.outcome ~ topology_type, family = binomial(link = \"logit\"), \n",
       "    data = all.data)\n",
       "\n",
       "Deviance Residuals: \n",
       "    Min       1Q   Median       3Q      Max  \n",
       "-1.0359  -0.9563  -0.7636   1.4160   1.6699  \n",
       "\n",
       "Coefficients:\n",
       "                        Estimate Std. Error z value Pr(>|z|)    \n",
       "(Intercept)              -0.3423     0.1079  -3.173  0.00151 ** \n",
       "topology_typeMultiTM     -0.2029     0.1188  -1.709  0.08746 .  \n",
       "topology_typeSecreted    -0.6216     0.1416  -4.389 1.14e-05 ***\n",
       "topology_typeSingleTM    -0.7410     0.1428  -5.190 2.10e-07 ***\n",
       "topology_typeUnattached  -0.7670     0.1371  -5.597 2.19e-08 ***\n",
       "---\n",
       "Signif. codes:  0 '***' 0.001 '**' 0.01 '*' 0.05 '.' 0.1 ' ' 1\n",
       "\n",
       "(Dispersion parameter for binomial family taken to be 1)\n",
       "\n",
       "    Null deviance: 5066.3  on 4046  degrees of freedom\n",
       "Residual deviance: 4997.7  on 4042  degrees of freedom\n",
       "AIC: 5007.7\n",
       "\n",
       "Number of Fisher Scoring iterations: 4\n"
      ]
     },
     "metadata": {},
     "output_type": "display_data"
    },
    {
     "data": {
      "text/html": [
       "<table>\n",
       "<thead><tr><th></th><th scope=col>Df</th><th scope=col>Deviance</th><th scope=col>Resid. Df</th><th scope=col>Resid. Dev</th><th scope=col>Pr(&gt;Chi)</th></tr></thead>\n",
       "<tbody>\n",
       "\t<tr><th scope=row>NULL</th><td>NA          </td><td>      NA    </td><td>4046        </td><td>5066.255    </td><td>          NA</td></tr>\n",
       "\t<tr><th scope=row>topology_type</th><td> 4          </td><td>68.54075    </td><td>4042        </td><td>4997.714    </td><td>4.612921e-14</td></tr>\n",
       "</tbody>\n",
       "</table>\n"
      ],
      "text/latex": [
       "\\begin{tabular}{r|lllll}\n",
       "  & Df & Deviance & Resid. Df & Resid. Dev & Pr(>Chi)\\\\\n",
       "\\hline\n",
       "\tNULL & NA           &       NA     & 4046         & 5066.255     &           NA\\\\\n",
       "\ttopology\\_type &  4           & 68.54075     & 4042         & 4997.714     & 4.612921e-14\\\\\n",
       "\\end{tabular}\n"
      ],
      "text/markdown": [
       "\n",
       "| <!--/--> | Df | Deviance | Resid. Df | Resid. Dev | Pr(>Chi) | \n",
       "|---|---|\n",
       "| NULL | NA           |       NA     | 4046         | 5066.255     |           NA | \n",
       "| topology_type |  4           | 68.54075     | 4042         | 4997.714     | 4.612921e-14 | \n",
       "\n",
       "\n"
      ],
      "text/plain": [
       "              Df Deviance Resid. Df Resid. Dev Pr(>Chi)    \n",
       "NULL          NA       NA 4046      5066.255             NA\n",
       "topology_type  4 68.54075 4042      4997.714   4.612921e-14"
      ]
     },
     "metadata": {},
     "output_type": "display_data"
    }
   ],
   "source": [
    "g = glm(clinical.outcome ~ topology_type, all.data, \n",
    "        family = binomial(link = \"logit\"))\n",
    "summary(g)\n",
    "anova(g, test = \"Chisq\")"
   ]
  },
  {
   "cell_type": "code",
   "execution_count": 26,
   "metadata": {},
   "outputs": [
    {
     "data": {
      "text/plain": [
       "\n",
       "Call:\n",
       "glm(formula = clinical.outcome ~ target_location, family = binomial(link = \"logit\"), \n",
       "    data = all.data)\n",
       "\n",
       "Deviance Residuals: \n",
       "    Min       1Q   Median       3Q      Max  \n",
       "-1.0854  -0.8921  -0.8039   1.4926   1.7734  \n",
       "\n",
       "Coefficients:\n",
       "                             Estimate Std. Error z value Pr(>|z|)    \n",
       "(Intercept)                   -1.3398     0.1694  -7.911 2.55e-15 ***\n",
       "target_locationExposed         0.6237     0.1754   3.556 0.000377 ***\n",
       "target_locationFree            0.3759     0.1926   1.951 0.051025 .  \n",
       "target_locationMitochondrion   1.1195     0.2341   4.782 1.73e-06 ***\n",
       "target_locationNucleus         0.1845     0.2036   0.906 0.364686    \n",
       "target_locationOrganelle       0.9635     0.1930   4.993 5.95e-07 ***\n",
       "---\n",
       "Signif. codes:  0 '***' 0.001 '**' 0.01 '*' 0.05 '.' 0.1 ' ' 1\n",
       "\n",
       "(Dispersion parameter for binomial family taken to be 1)\n",
       "\n",
       "    Null deviance: 5066.3  on 4046  degrees of freedom\n",
       "Residual deviance: 5006.7  on 4041  degrees of freedom\n",
       "AIC: 5018.7\n",
       "\n",
       "Number of Fisher Scoring iterations: 4\n"
      ]
     },
     "metadata": {},
     "output_type": "display_data"
    },
    {
     "data": {
      "text/html": [
       "<table>\n",
       "<thead><tr><th></th><th scope=col>Df</th><th scope=col>Deviance</th><th scope=col>Resid. Df</th><th scope=col>Resid. Dev</th><th scope=col>Pr(&gt;Chi)</th></tr></thead>\n",
       "<tbody>\n",
       "\t<tr><th scope=row>NULL</th><td>NA          </td><td>      NA    </td><td>4046        </td><td>5066.255    </td><td>          NA</td></tr>\n",
       "\t<tr><th scope=row>target_location</th><td> 5          </td><td>59.59673    </td><td>4041        </td><td>5006.658    </td><td>1.472514e-11</td></tr>\n",
       "</tbody>\n",
       "</table>\n"
      ],
      "text/latex": [
       "\\begin{tabular}{r|lllll}\n",
       "  & Df & Deviance & Resid. Df & Resid. Dev & Pr(>Chi)\\\\\n",
       "\\hline\n",
       "\tNULL & NA           &       NA     & 4046         & 5066.255     &           NA\\\\\n",
       "\ttarget\\_location &  5           & 59.59673     & 4041         & 5006.658     & 1.472514e-11\\\\\n",
       "\\end{tabular}\n"
      ],
      "text/markdown": [
       "\n",
       "| <!--/--> | Df | Deviance | Resid. Df | Resid. Dev | Pr(>Chi) | \n",
       "|---|---|\n",
       "| NULL | NA           |       NA     | 4046         | 5066.255     |           NA | \n",
       "| target_location |  5           | 59.59673     | 4041         | 5006.658     | 1.472514e-11 | \n",
       "\n",
       "\n"
      ],
      "text/plain": [
       "                Df Deviance Resid. Df Resid. Dev Pr(>Chi)    \n",
       "NULL            NA       NA 4046      5066.255             NA\n",
       "target_location  5 59.59673 4041      5006.658   1.472514e-11"
      ]
     },
     "metadata": {},
     "output_type": "display_data"
    }
   ],
   "source": [
    "g = glm(clinical.outcome ~ target_location, all.data, \n",
    "        family = binomial(link = \"logit\"))\n",
    "summary(g)\n",
    "anova(g, test = \"Chisq\")"
   ]
  },
  {
   "cell_type": "code",
   "execution_count": 27,
   "metadata": {},
   "outputs": [
    {
     "data": {
      "text/plain": [
       "\n",
       "Call:\n",
       "glm(formula = clinical.outcome ~ ExAC_LoF, family = binomial(link = \"logit\"), \n",
       "    data = all.data)\n",
       "\n",
       "Deviance Residuals: \n",
       "    Min       1Q   Median       3Q      Max  \n",
       "-1.0455  -0.8971  -0.8891   1.4865   1.6548  \n",
       "\n",
       "Coefficients:\n",
       "                        Estimate Std. Error z value Pr(>|z|)    \n",
       "(Intercept)             -0.72424    0.06251 -11.587  < 2e-16 ***\n",
       "ExAC_LoFMissing          0.40578    0.21700   1.870  0.06149 .  \n",
       "ExAC_LoFTolerant to LoF -0.35152    0.10716  -3.280  0.00104 ** \n",
       "ExAC_LoFUnclassified     0.02175    0.07788   0.279  0.77998    \n",
       "---\n",
       "Signif. codes:  0 '***' 0.001 '**' 0.01 '*' 0.05 '.' 0.1 ' ' 1\n",
       "\n",
       "(Dispersion parameter for binomial family taken to be 1)\n",
       "\n",
       "    Null deviance: 5066.3  on 4046  degrees of freedom\n",
       "Residual deviance: 5046.2  on 4043  degrees of freedom\n",
       "AIC: 5054.2\n",
       "\n",
       "Number of Fisher Scoring iterations: 4\n"
      ]
     },
     "metadata": {},
     "output_type": "display_data"
    },
    {
     "data": {
      "text/html": [
       "<table>\n",
       "<thead><tr><th></th><th scope=col>Df</th><th scope=col>Deviance</th><th scope=col>Resid. Df</th><th scope=col>Resid. Dev</th><th scope=col>Pr(&gt;Chi)</th></tr></thead>\n",
       "<tbody>\n",
       "\t<tr><th scope=row>NULL</th><td>NA          </td><td>     NA     </td><td>4046        </td><td>5066.255    </td><td>          NA</td></tr>\n",
       "\t<tr><th scope=row>ExAC_LoF</th><td> 3          </td><td>20.0475     </td><td>4043        </td><td>5046.207    </td><td>0.0001659382</td></tr>\n",
       "</tbody>\n",
       "</table>\n"
      ],
      "text/latex": [
       "\\begin{tabular}{r|lllll}\n",
       "  & Df & Deviance & Resid. Df & Resid. Dev & Pr(>Chi)\\\\\n",
       "\\hline\n",
       "\tNULL & NA           &      NA      & 4046         & 5066.255     &           NA\\\\\n",
       "\tExAC\\_LoF &  3           & 20.0475      & 4043         & 5046.207     & 0.0001659382\\\\\n",
       "\\end{tabular}\n"
      ],
      "text/markdown": [
       "\n",
       "| <!--/--> | Df | Deviance | Resid. Df | Resid. Dev | Pr(>Chi) | \n",
       "|---|---|\n",
       "| NULL | NA           |      NA      | 4046         | 5066.255     |           NA | \n",
       "| ExAC_LoF |  3           | 20.0475      | 4043         | 5046.207     | 0.0001659382 | \n",
       "\n",
       "\n"
      ],
      "text/plain": [
       "         Df Deviance Resid. Df Resid. Dev Pr(>Chi)    \n",
       "NULL     NA      NA  4046      5066.255             NA\n",
       "ExAC_LoF  3 20.0475  4043      5046.207   0.0001659382"
      ]
     },
     "metadata": {},
     "output_type": "display_data"
    }
   ],
   "source": [
    "g = glm(clinical.outcome ~ ExAC_LoF, all.data, \n",
    "        family = binomial(link = \"logit\"))\n",
    "summary(g)\n",
    "anova(g, test = \"Chisq\")"
   ]
  },
  {
   "cell_type": "markdown",
   "metadata": {},
   "source": [
    "## Save the main analysis dataset as an RData file"
   ]
  },
  {
   "cell_type": "code",
   "execution_count": 28,
   "metadata": {
    "collapsed": true
   },
   "outputs": [],
   "source": [
    "save(all.data, file = \"datathon_OTdata.RData\", compress = TRUE)"
   ]
  },
  {
   "cell_type": "markdown",
   "metadata": {},
   "source": [
    "## Example prediction model\n",
    "### Backwards stepwise regression\n"
   ]
  },
  {
   "cell_type": "code",
   "execution_count": 29,
   "metadata": {
    "collapsed": true
   },
   "outputs": [],
   "source": [
    "set.seed(6475250)\n",
    "train.select = sample(1:nrow(all.data), size = nrow(all.data) * 0.8, \n",
    "                      replace = FALSE)\n",
    "train.data = all.data[train.select,]\n",
    "test.data = subset(all.data, !(key %in% train.data$key))"
   ]
  },
  {
   "cell_type": "code",
   "execution_count": 30,
   "metadata": {},
   "outputs": [
    {
     "data": {
      "text/html": [
       "<table>\n",
       "<thead><tr><th></th><th scope=col>Df</th><th scope=col>Deviance</th><th scope=col>Resid. Df</th><th scope=col>Resid. Dev</th><th scope=col>Pr(&gt;Chi)</th></tr></thead>\n",
       "<tbody>\n",
       "\t<tr><th scope=row>NULL</th><td>NA          </td><td>          NA</td><td>3236        </td><td>4073.523    </td><td>          NA</td></tr>\n",
       "\t<tr><th scope=row>genetic_association.pos</th><td> 1          </td><td>187.00174950</td><td>3235        </td><td>3886.521    </td><td>1.434865e-42</td></tr>\n",
       "\t<tr><th scope=row>rna_expression.pos</th><td> 1          </td><td> 56.30752972</td><td>3234        </td><td>3830.214    </td><td>6.197762e-14</td></tr>\n",
       "\t<tr><th scope=row>animal_model.pos</th><td> 1          </td><td>  2.09263477</td><td>3233        </td><td>3828.121    </td><td>1.480106e-01</td></tr>\n",
       "\t<tr><th scope=row>literature.pos</th><td> 1          </td><td>  5.62038805</td><td>3232        </td><td>3822.501    </td><td>1.775272e-02</td></tr>\n",
       "\t<tr><th scope=row>expression_atlas.pos</th><td> 0          </td><td>  0.00000000</td><td>3232        </td><td>3822.501    </td><td>          NA</td></tr>\n",
       "\t<tr><th scope=row>gwas_catalog.pos</th><td> 1          </td><td>  8.39894942</td><td>3231        </td><td>3814.102    </td><td>3.754379e-03</td></tr>\n",
       "\t<tr><th scope=row>phewas_catalog.pos</th><td> 1          </td><td>  0.49742863</td><td>3230        </td><td>3813.605    </td><td>4.806321e-01</td></tr>\n",
       "\t<tr><th scope=row>uniprot_literature.pos</th><td> 1          </td><td>  0.01838811</td><td>3229        </td><td>3813.586    </td><td>8.921353e-01</td></tr>\n",
       "\t<tr><th scope=row>genomics_england.pos</th><td> 1          </td><td>  3.50979134</td><td>3228        </td><td>3810.076    </td><td>6.100714e-02</td></tr>\n",
       "\t<tr><th scope=row>gene2phenotype.pos</th><td> 1          </td><td>  3.33373132</td><td>3227        </td><td>3806.743    </td><td>6.787273e-02</td></tr>\n",
       "\t<tr><th scope=row>reactome.pos</th><td> 1          </td><td>  0.63036421</td><td>3226        </td><td>3806.112    </td><td>4.272217e-01</td></tr>\n",
       "\t<tr><th scope=row>slapenrich.pos</th><td> 1          </td><td>  0.66277879</td><td>3225        </td><td>3805.449    </td><td>4.155806e-01</td></tr>\n",
       "\t<tr><th scope=row>phenodigm.pos</th><td> 0          </td><td>  0.00000000</td><td>3225        </td><td>3805.449    </td><td>          NA</td></tr>\n",
       "\t<tr><th scope=row>europepmc.pos</th><td> 0          </td><td>  0.00000000</td><td>3225        </td><td>3805.449    </td><td>          NA</td></tr>\n",
       "\t<tr><th scope=row>expression_score.pos</th><td> 1          </td><td> 31.40812248</td><td>3224        </td><td>3774.041    </td><td>2.091043e-08</td></tr>\n",
       "\t<tr><th scope=row>pc_mouse_gene_identity.pos</th><td> 1          </td><td>  5.09596022</td><td>3223        </td><td>3768.945    </td><td>2.398163e-02</td></tr>\n",
       "\t<tr><th scope=row>GTEX_median_all_tissues.pos</th><td> 1          </td><td>  4.69376069</td><td>3222        </td><td>3764.252    </td><td>3.027232e-02</td></tr>\n",
       "\t<tr><th scope=row>pcred</th><td>19          </td><td>281.10965197</td><td>3203        </td><td>3483.142    </td><td>1.461416e-48</td></tr>\n",
       "\t<tr><th scope=row>target_class</th><td>14          </td><td> 51.08710495</td><td>3189        </td><td>3432.055    </td><td>4.010326e-06</td></tr>\n",
       "\t<tr><th scope=row>topology_type</th><td> 4          </td><td> 32.62960919</td><td>3185        </td><td>3399.425    </td><td>1.422289e-06</td></tr>\n",
       "\t<tr><th scope=row>target_location</th><td> 4          </td><td>  3.84241991</td><td>3181        </td><td>3395.583    </td><td>4.277518e-01</td></tr>\n",
       "\t<tr><th scope=row>ExAC_LoF</th><td> 3          </td><td>  0.61465682</td><td>3178        </td><td>3394.968    </td><td>8.930690e-01</td></tr>\n",
       "</tbody>\n",
       "</table>\n"
      ],
      "text/latex": [
       "\\begin{tabular}{r|lllll}\n",
       "  & Df & Deviance & Resid. Df & Resid. Dev & Pr(>Chi)\\\\\n",
       "\\hline\n",
       "\tNULL & NA           &           NA & 3236         & 4073.523     &           NA\\\\\n",
       "\tgenetic\\_association.pos &  1           & 187.00174950 & 3235         & 3886.521     & 1.434865e-42\\\\\n",
       "\trna\\_expression.pos &  1           &  56.30752972 & 3234         & 3830.214     & 6.197762e-14\\\\\n",
       "\tanimal\\_model.pos &  1           &   2.09263477 & 3233         & 3828.121     & 1.480106e-01\\\\\n",
       "\tliterature.pos &  1           &   5.62038805 & 3232         & 3822.501     & 1.775272e-02\\\\\n",
       "\texpression\\_atlas.pos &  0           &   0.00000000 & 3232         & 3822.501     &           NA\\\\\n",
       "\tgwas\\_catalog.pos &  1           &   8.39894942 & 3231         & 3814.102     & 3.754379e-03\\\\\n",
       "\tphewas\\_catalog.pos &  1           &   0.49742863 & 3230         & 3813.605     & 4.806321e-01\\\\\n",
       "\tuniprot\\_literature.pos &  1           &   0.01838811 & 3229         & 3813.586     & 8.921353e-01\\\\\n",
       "\tgenomics\\_england.pos &  1           &   3.50979134 & 3228         & 3810.076     & 6.100714e-02\\\\\n",
       "\tgene2phenotype.pos &  1           &   3.33373132 & 3227         & 3806.743     & 6.787273e-02\\\\\n",
       "\treactome.pos &  1           &   0.63036421 & 3226         & 3806.112     & 4.272217e-01\\\\\n",
       "\tslapenrich.pos &  1           &   0.66277879 & 3225         & 3805.449     & 4.155806e-01\\\\\n",
       "\tphenodigm.pos &  0           &   0.00000000 & 3225         & 3805.449     &           NA\\\\\n",
       "\teuropepmc.pos &  0           &   0.00000000 & 3225         & 3805.449     &           NA\\\\\n",
       "\texpression\\_score.pos &  1           &  31.40812248 & 3224         & 3774.041     & 2.091043e-08\\\\\n",
       "\tpc\\_mouse\\_gene\\_identity.pos &  1           &   5.09596022 & 3223         & 3768.945     & 2.398163e-02\\\\\n",
       "\tGTEX\\_median\\_all\\_tissues.pos &  1           &   4.69376069 & 3222         & 3764.252     & 3.027232e-02\\\\\n",
       "\tpcred & 19           & 281.10965197 & 3203         & 3483.142     & 1.461416e-48\\\\\n",
       "\ttarget\\_class & 14           &  51.08710495 & 3189         & 3432.055     & 4.010326e-06\\\\\n",
       "\ttopology\\_type &  4           &  32.62960919 & 3185         & 3399.425     & 1.422289e-06\\\\\n",
       "\ttarget\\_location &  4           &   3.84241991 & 3181         & 3395.583     & 4.277518e-01\\\\\n",
       "\tExAC\\_LoF &  3           &   0.61465682 & 3178         & 3394.968     & 8.930690e-01\\\\\n",
       "\\end{tabular}\n"
      ],
      "text/markdown": [
       "\n",
       "| <!--/--> | Df | Deviance | Resid. Df | Resid. Dev | Pr(>Chi) | \n",
       "|---|---|---|---|---|---|---|---|---|---|---|---|---|---|---|---|---|---|---|---|---|---|---|\n",
       "| NULL | NA           |           NA | 3236         | 4073.523     |           NA | \n",
       "| genetic_association.pos |  1           | 187.00174950 | 3235         | 3886.521     | 1.434865e-42 | \n",
       "| rna_expression.pos |  1           |  56.30752972 | 3234         | 3830.214     | 6.197762e-14 | \n",
       "| animal_model.pos |  1           |   2.09263477 | 3233         | 3828.121     | 1.480106e-01 | \n",
       "| literature.pos |  1           |   5.62038805 | 3232         | 3822.501     | 1.775272e-02 | \n",
       "| expression_atlas.pos |  0           |   0.00000000 | 3232         | 3822.501     |           NA | \n",
       "| gwas_catalog.pos |  1           |   8.39894942 | 3231         | 3814.102     | 3.754379e-03 | \n",
       "| phewas_catalog.pos |  1           |   0.49742863 | 3230         | 3813.605     | 4.806321e-01 | \n",
       "| uniprot_literature.pos |  1           |   0.01838811 | 3229         | 3813.586     | 8.921353e-01 | \n",
       "| genomics_england.pos |  1           |   3.50979134 | 3228         | 3810.076     | 6.100714e-02 | \n",
       "| gene2phenotype.pos |  1           |   3.33373132 | 3227         | 3806.743     | 6.787273e-02 | \n",
       "| reactome.pos |  1           |   0.63036421 | 3226         | 3806.112     | 4.272217e-01 | \n",
       "| slapenrich.pos |  1           |   0.66277879 | 3225         | 3805.449     | 4.155806e-01 | \n",
       "| phenodigm.pos |  0           |   0.00000000 | 3225         | 3805.449     |           NA | \n",
       "| europepmc.pos |  0           |   0.00000000 | 3225         | 3805.449     |           NA | \n",
       "| expression_score.pos |  1           |  31.40812248 | 3224         | 3774.041     | 2.091043e-08 | \n",
       "| pc_mouse_gene_identity.pos |  1           |   5.09596022 | 3223         | 3768.945     | 2.398163e-02 | \n",
       "| GTEX_median_all_tissues.pos |  1           |   4.69376069 | 3222         | 3764.252     | 3.027232e-02 | \n",
       "| pcred | 19           | 281.10965197 | 3203         | 3483.142     | 1.461416e-48 | \n",
       "| target_class | 14           |  51.08710495 | 3189         | 3432.055     | 4.010326e-06 | \n",
       "| topology_type |  4           |  32.62960919 | 3185         | 3399.425     | 1.422289e-06 | \n",
       "| target_location |  4           |   3.84241991 | 3181         | 3395.583     | 4.277518e-01 | \n",
       "| ExAC_LoF |  3           |   0.61465682 | 3178         | 3394.968     | 8.930690e-01 | \n",
       "\n",
       "\n"
      ],
      "text/plain": [
       "                            Df Deviance     Resid. Df Resid. Dev Pr(>Chi)    \n",
       "NULL                        NA           NA 3236      4073.523             NA\n",
       "genetic_association.pos      1 187.00174950 3235      3886.521   1.434865e-42\n",
       "rna_expression.pos           1  56.30752972 3234      3830.214   6.197762e-14\n",
       "animal_model.pos             1   2.09263477 3233      3828.121   1.480106e-01\n",
       "literature.pos               1   5.62038805 3232      3822.501   1.775272e-02\n",
       "expression_atlas.pos         0   0.00000000 3232      3822.501             NA\n",
       "gwas_catalog.pos             1   8.39894942 3231      3814.102   3.754379e-03\n",
       "phewas_catalog.pos           1   0.49742863 3230      3813.605   4.806321e-01\n",
       "uniprot_literature.pos       1   0.01838811 3229      3813.586   8.921353e-01\n",
       "genomics_england.pos         1   3.50979134 3228      3810.076   6.100714e-02\n",
       "gene2phenotype.pos           1   3.33373132 3227      3806.743   6.787273e-02\n",
       "reactome.pos                 1   0.63036421 3226      3806.112   4.272217e-01\n",
       "slapenrich.pos               1   0.66277879 3225      3805.449   4.155806e-01\n",
       "phenodigm.pos                0   0.00000000 3225      3805.449             NA\n",
       "europepmc.pos                0   0.00000000 3225      3805.449             NA\n",
       "expression_score.pos         1  31.40812248 3224      3774.041   2.091043e-08\n",
       "pc_mouse_gene_identity.pos   1   5.09596022 3223      3768.945   2.398163e-02\n",
       "GTEX_median_all_tissues.pos  1   4.69376069 3222      3764.252   3.027232e-02\n",
       "pcred                       19 281.10965197 3203      3483.142   1.461416e-48\n",
       "target_class                14  51.08710495 3189      3432.055   4.010326e-06\n",
       "topology_type                4  32.62960919 3185      3399.425   1.422289e-06\n",
       "target_location              4   3.84241991 3181      3395.583   4.277518e-01\n",
       "ExAC_LoF                     3   0.61465682 3178      3394.968   8.930690e-01"
      ]
     },
     "metadata": {},
     "output_type": "display_data"
    }
   ],
   "source": [
    "indep.vars = c(pos.score.vars, pos.gene.qvars,\n",
    "               \"pcred\", \"target_class\", \"topology_type\", \n",
    "               \"target_location\", \"ExAC_LoF\")\n",
    "## Eliminate those that are too rare to be robust\n",
    "indep.vars = indep.vars[!(indep.vars %in% \n",
    "                          c(\"known_drug.pos\", \"affected_pathway.pos\",\n",
    "                           \"uniprot.pos\", \"eva.pos\"))]\n",
    "full.glm = glm(clinical.outcome ~ ., train.data[, c(\"clinical.outcome\", indep.vars)],\n",
    "              family = binomial)\n",
    "anova(full.glm, test = \"Chisq\")"
   ]
  },
  {
   "cell_type": "code",
   "execution_count": 31,
   "metadata": {},
   "outputs": [
    {
     "data": {
      "text/html": [
       "<table>\n",
       "<thead><tr><th></th><th scope=col>Df</th><th scope=col>Deviance</th><th scope=col>Resid. Df</th><th scope=col>Resid. Dev</th><th scope=col>Pr(&gt;Chi)</th></tr></thead>\n",
       "<tbody>\n",
       "\t<tr><th scope=row>NULL</th><td>NA          </td><td>        NA  </td><td>3236        </td><td>4073.523    </td><td>          NA</td></tr>\n",
       "\t<tr><th scope=row>rna_expression.pos</th><td> 1          </td><td>238.941390  </td><td>3235        </td><td>3834.582    </td><td>6.691628e-54</td></tr>\n",
       "\t<tr><th scope=row>literature.pos</th><td> 1          </td><td>  9.196914  </td><td>3234        </td><td>3825.385    </td><td>2.424234e-03</td></tr>\n",
       "\t<tr><th scope=row>genomics_england.pos</th><td> 1          </td><td> 13.533569  </td><td>3233        </td><td>3811.851    </td><td>2.343340e-04</td></tr>\n",
       "\t<tr><th scope=row>gene2phenotype.pos</th><td> 1          </td><td>  3.139484  </td><td>3232        </td><td>3808.712    </td><td>7.641799e-02</td></tr>\n",
       "\t<tr><th scope=row>slapenrich.pos</th><td> 1          </td><td>  0.794998  </td><td>3231        </td><td>3807.917    </td><td>3.725931e-01</td></tr>\n",
       "\t<tr><th scope=row>expression_score.pos</th><td> 1          </td><td> 30.301628  </td><td>3230        </td><td>3777.615    </td><td>3.698154e-08</td></tr>\n",
       "\t<tr><th scope=row>pcred</th><td>19          </td><td>289.203412  </td><td>3211        </td><td>3488.412    </td><td>3.245276e-50</td></tr>\n",
       "\t<tr><th scope=row>target_class</th><td>14          </td><td> 50.900158  </td><td>3197        </td><td>3437.512    </td><td>4.311790e-06</td></tr>\n",
       "\t<tr><th scope=row>topology_type</th><td> 4          </td><td> 33.267613  </td><td>3193        </td><td>3404.244    </td><td>1.052872e-06</td></tr>\n",
       "</tbody>\n",
       "</table>\n"
      ],
      "text/latex": [
       "\\begin{tabular}{r|lllll}\n",
       "  & Df & Deviance & Resid. Df & Resid. Dev & Pr(>Chi)\\\\\n",
       "\\hline\n",
       "\tNULL & NA           &         NA   & 3236         & 4073.523     &           NA\\\\\n",
       "\trna\\_expression.pos &  1           & 238.941390   & 3235         & 3834.582     & 6.691628e-54\\\\\n",
       "\tliterature.pos &  1           &   9.196914   & 3234         & 3825.385     & 2.424234e-03\\\\\n",
       "\tgenomics\\_england.pos &  1           &  13.533569   & 3233         & 3811.851     & 2.343340e-04\\\\\n",
       "\tgene2phenotype.pos &  1           &   3.139484   & 3232         & 3808.712     & 7.641799e-02\\\\\n",
       "\tslapenrich.pos &  1           &   0.794998   & 3231         & 3807.917     & 3.725931e-01\\\\\n",
       "\texpression\\_score.pos &  1           &  30.301628   & 3230         & 3777.615     & 3.698154e-08\\\\\n",
       "\tpcred & 19           & 289.203412   & 3211         & 3488.412     & 3.245276e-50\\\\\n",
       "\ttarget\\_class & 14           &  50.900158   & 3197         & 3437.512     & 4.311790e-06\\\\\n",
       "\ttopology\\_type &  4           &  33.267613   & 3193         & 3404.244     & 1.052872e-06\\\\\n",
       "\\end{tabular}\n"
      ],
      "text/markdown": [
       "\n",
       "| <!--/--> | Df | Deviance | Resid. Df | Resid. Dev | Pr(>Chi) | \n",
       "|---|---|---|---|---|---|---|---|---|---|\n",
       "| NULL | NA           |         NA   | 3236         | 4073.523     |           NA | \n",
       "| rna_expression.pos |  1           | 238.941390   | 3235         | 3834.582     | 6.691628e-54 | \n",
       "| literature.pos |  1           |   9.196914   | 3234         | 3825.385     | 2.424234e-03 | \n",
       "| genomics_england.pos |  1           |  13.533569   | 3233         | 3811.851     | 2.343340e-04 | \n",
       "| gene2phenotype.pos |  1           |   3.139484   | 3232         | 3808.712     | 7.641799e-02 | \n",
       "| slapenrich.pos |  1           |   0.794998   | 3231         | 3807.917     | 3.725931e-01 | \n",
       "| expression_score.pos |  1           |  30.301628   | 3230         | 3777.615     | 3.698154e-08 | \n",
       "| pcred | 19           | 289.203412   | 3211         | 3488.412     | 3.245276e-50 | \n",
       "| target_class | 14           |  50.900158   | 3197         | 3437.512     | 4.311790e-06 | \n",
       "| topology_type |  4           |  33.267613   | 3193         | 3404.244     | 1.052872e-06 | \n",
       "\n",
       "\n"
      ],
      "text/plain": [
       "                     Df Deviance   Resid. Df Resid. Dev Pr(>Chi)    \n",
       "NULL                 NA         NA 3236      4073.523             NA\n",
       "rna_expression.pos    1 238.941390 3235      3834.582   6.691628e-54\n",
       "literature.pos        1   9.196914 3234      3825.385   2.424234e-03\n",
       "genomics_england.pos  1  13.533569 3233      3811.851   2.343340e-04\n",
       "gene2phenotype.pos    1   3.139484 3232      3808.712   7.641799e-02\n",
       "slapenrich.pos        1   0.794998 3231      3807.917   3.725931e-01\n",
       "expression_score.pos  1  30.301628 3230      3777.615   3.698154e-08\n",
       "pcred                19 289.203412 3211      3488.412   3.245276e-50\n",
       "target_class         14  50.900158 3197      3437.512   4.311790e-06\n",
       "topology_type         4  33.267613 3193      3404.244   1.052872e-06"
      ]
     },
     "metadata": {},
     "output_type": "display_data"
    }
   ],
   "source": [
    "back.glm = step(full.glm, trace = 0)\n",
    "anova(back.glm, test = \"Chisq\")"
   ]
  },
  {
   "cell_type": "code",
   "execution_count": 32,
   "metadata": {},
   "outputs": [
    {
     "data": {
      "text/html": [
       "<table>\n",
       "<thead><tr><th></th><th scope=col>Df</th><th scope=col>Deviance</th><th scope=col>Resid. Df</th><th scope=col>Resid. Dev</th><th scope=col>Pr(&gt;Chi)</th></tr></thead>\n",
       "<tbody>\n",
       "\t<tr><th scope=row>NULL</th><td>NA          </td><td>        NA  </td><td>3236        </td><td>4073.523    </td><td>          NA</td></tr>\n",
       "\t<tr><th scope=row>pcred</th><td>19          </td><td>381.274021  </td><td>3217        </td><td>3692.249    </td><td>3.406007e-69</td></tr>\n",
       "\t<tr><th scope=row>rna_expression.pos</th><td> 1          </td><td>132.258684  </td><td>3216        </td><td>3559.991    </td><td>1.313396e-30</td></tr>\n",
       "\t<tr><th scope=row>expression_score.pos</th><td> 1          </td><td> 39.700947  </td><td>3215        </td><td>3520.290    </td><td>2.959820e-10</td></tr>\n",
       "\t<tr><th scope=row>target_class</th><td>14          </td><td> 56.177001  </td><td>3201        </td><td>3464.113    </td><td>5.429065e-07</td></tr>\n",
       "\t<tr><th scope=row>topology_type</th><td> 4          </td><td> 30.824909  </td><td>3197        </td><td>3433.288    </td><td>3.323760e-06</td></tr>\n",
       "\t<tr><th scope=row>gene2phenotype.pos</th><td> 1          </td><td> 18.967162  </td><td>3196        </td><td>3414.320    </td><td>1.329876e-05</td></tr>\n",
       "\t<tr><th scope=row>genomics_england.pos</th><td> 1          </td><td>  4.505366  </td><td>3195        </td><td>3409.815    </td><td>3.378866e-02</td></tr>\n",
       "\t<tr><th scope=row>literature.pos</th><td> 1          </td><td>  2.923172  </td><td>3194        </td><td>3406.892    </td><td>8.731604e-02</td></tr>\n",
       "\t<tr><th scope=row>slapenrich.pos</th><td> 1          </td><td>  2.647904  </td><td>3193        </td><td>3404.244    </td><td>1.036865e-01</td></tr>\n",
       "</tbody>\n",
       "</table>\n"
      ],
      "text/latex": [
       "\\begin{tabular}{r|lllll}\n",
       "  & Df & Deviance & Resid. Df & Resid. Dev & Pr(>Chi)\\\\\n",
       "\\hline\n",
       "\tNULL & NA           &         NA   & 3236         & 4073.523     &           NA\\\\\n",
       "\tpcred & 19           & 381.274021   & 3217         & 3692.249     & 3.406007e-69\\\\\n",
       "\trna\\_expression.pos &  1           & 132.258684   & 3216         & 3559.991     & 1.313396e-30\\\\\n",
       "\texpression\\_score.pos &  1           &  39.700947   & 3215         & 3520.290     & 2.959820e-10\\\\\n",
       "\ttarget\\_class & 14           &  56.177001   & 3201         & 3464.113     & 5.429065e-07\\\\\n",
       "\ttopology\\_type &  4           &  30.824909   & 3197         & 3433.288     & 3.323760e-06\\\\\n",
       "\tgene2phenotype.pos &  1           &  18.967162   & 3196         & 3414.320     & 1.329876e-05\\\\\n",
       "\tgenomics\\_england.pos &  1           &   4.505366   & 3195         & 3409.815     & 3.378866e-02\\\\\n",
       "\tliterature.pos &  1           &   2.923172   & 3194         & 3406.892     & 8.731604e-02\\\\\n",
       "\tslapenrich.pos &  1           &   2.647904   & 3193         & 3404.244     & 1.036865e-01\\\\\n",
       "\\end{tabular}\n"
      ],
      "text/markdown": [
       "\n",
       "| <!--/--> | Df | Deviance | Resid. Df | Resid. Dev | Pr(>Chi) | \n",
       "|---|---|---|---|---|---|---|---|---|---|\n",
       "| NULL | NA           |         NA   | 3236         | 4073.523     |           NA | \n",
       "| pcred | 19           | 381.274021   | 3217         | 3692.249     | 3.406007e-69 | \n",
       "| rna_expression.pos |  1           | 132.258684   | 3216         | 3559.991     | 1.313396e-30 | \n",
       "| expression_score.pos |  1           |  39.700947   | 3215         | 3520.290     | 2.959820e-10 | \n",
       "| target_class | 14           |  56.177001   | 3201         | 3464.113     | 5.429065e-07 | \n",
       "| topology_type |  4           |  30.824909   | 3197         | 3433.288     | 3.323760e-06 | \n",
       "| gene2phenotype.pos |  1           |  18.967162   | 3196         | 3414.320     | 1.329876e-05 | \n",
       "| genomics_england.pos |  1           |   4.505366   | 3195         | 3409.815     | 3.378866e-02 | \n",
       "| literature.pos |  1           |   2.923172   | 3194         | 3406.892     | 8.731604e-02 | \n",
       "| slapenrich.pos |  1           |   2.647904   | 3193         | 3404.244     | 1.036865e-01 | \n",
       "\n",
       "\n"
      ],
      "text/plain": [
       "                     Df Deviance   Resid. Df Resid. Dev Pr(>Chi)    \n",
       "NULL                 NA         NA 3236      4073.523             NA\n",
       "pcred                19 381.274021 3217      3692.249   3.406007e-69\n",
       "rna_expression.pos    1 132.258684 3216      3559.991   1.313396e-30\n",
       "expression_score.pos  1  39.700947 3215      3520.290   2.959820e-10\n",
       "target_class         14  56.177001 3201      3464.113   5.429065e-07\n",
       "topology_type         4  30.824909 3197      3433.288   3.323760e-06\n",
       "gene2phenotype.pos    1  18.967162 3196      3414.320   1.329876e-05\n",
       "genomics_england.pos  1   4.505366 3195      3409.815   3.378866e-02\n",
       "literature.pos        1   2.923172 3194      3406.892   8.731604e-02\n",
       "slapenrich.pos        1   2.647904 3193      3404.244   1.036865e-01"
      ]
     },
     "metadata": {},
     "output_type": "display_data"
    }
   ],
   "source": [
    "null.glm = glm(clinical.outcome ~ 1, train.data, family = binomial)\n",
    "forward.glm = step(null.glm, \n",
    "                scope = list(lower = formula(null.glm),\n",
    "                            upper = formula(full.glm)),\n",
    "                direction = \"forward\", trace = 0)\n",
    "anova(forward.glm, test = \"Chisq\")"
   ]
  },
  {
   "cell_type": "code",
   "execution_count": 33,
   "metadata": {
    "collapsed": true
   },
   "outputs": [],
   "source": [
    "test.data$pred.prob = predict(forward.glm, newdata = test.data, \n",
    "                            type = \"response\")\n",
    "train.data$pred.prob = predict(forward.glm, newdata = train.data, \n",
    "                              type = \"response\")"
   ]
  },
  {
   "cell_type": "code",
   "execution_count": 34,
   "metadata": {},
   "outputs": [
    {
     "data": {
      "text/plain": [
       ": Failure\n",
       "    Min.  1st Qu.   Median     Mean  3rd Qu.     Max. \n",
       "0.007595 0.119277 0.217781 0.259889 0.372693 0.878485 \n",
       "------------------------------------------------------------ \n",
       ": Success\n",
       "   Min. 1st Qu.  Median    Mean 3rd Qu.    Max. \n",
       "0.03032 0.28901 0.46292 0.45562 0.61303 0.93493 "
      ]
     },
     "metadata": {},
     "output_type": "display_data"
    }
   ],
   "source": [
    "by(train.data[, \"pred.prob\"], list(train.data$clinical.outcome), summary)"
   ]
  },
  {
   "cell_type": "code",
   "execution_count": 35,
   "metadata": {},
   "outputs": [
    {
     "data": {
      "text/plain": [
       ": Failure\n",
       "    Min.  1st Qu.   Median     Mean  3rd Qu.     Max. \n",
       "0.007595 0.119627 0.233484 0.264122 0.375751 0.876388 \n",
       "------------------------------------------------------------ \n",
       ": Success\n",
       "   Min. 1st Qu.  Median    Mean 3rd Qu.    Max. \n",
       "0.05236 0.28901 0.46339 0.44858 0.60247 0.92494 "
      ]
     },
     "metadata": {},
     "output_type": "display_data"
    }
   ],
   "source": [
    "by(test.data[, \"pred.prob\"], list(test.data$clinical.outcome), summary)"
   ]
  },
  {
   "cell_type": "code",
   "execution_count": 36,
   "metadata": {},
   "outputs": [
    {
     "data": {
      "text/plain": [
       ": Failure\n",
       "   Min. 1st Qu.  Median    Mean 3rd Qu.    Max. \n",
       "0.04419 0.11693 0.15367 0.23191 0.32192 0.65320 \n",
       "------------------------------------------------------------ \n",
       ": Success\n",
       "   Min. 1st Qu.  Median    Mean 3rd Qu.    Max. \n",
       "0.05236 0.25069 0.37275 0.39818 0.54082 0.77218 "
      ]
     },
     "metadata": {},
     "output_type": "display_data"
    }
   ],
   "source": [
    "lVec = test.data$Indication.with.First.Clinical.Outcome.for.Target %in% \"Y\"\n",
    "by(test.data[lVec, \"pred.prob\"], list(test.data$clinical.outcome[lVec]), summary)"
   ]
  },
  {
   "cell_type": "code",
   "execution_count": 37,
   "metadata": {
    "collapsed": true
   },
   "outputs": [],
   "source": [
    "train.data = train.data %>%\n",
    "    mutate(pred.outcome = ifelse(pred.prob >= 0.5, \"Success\", \"Failure\"))\n",
    "test.data = test.data %>%\n",
    "    mutate(pred.outcome = ifelse(pred.prob >= 0.5, \"Success\", \"Failure\"))"
   ]
  },
  {
   "cell_type": "code",
   "execution_count": 38,
   "metadata": {},
   "outputs": [
    {
     "data": {
      "text/plain": [
       "                pred.outcome\n",
       "clinical.outcome Failure Success\n",
       "         Failure    1915     276\n",
       "         Success     581     465"
      ]
     },
     "metadata": {},
     "output_type": "display_data"
    },
    {
     "data": {
      "text/plain": [
       "                pred.outcome\n",
       "clinical.outcome Failure Success\n",
       "         Failure     485      81\n",
       "         Success     145      99"
      ]
     },
     "metadata": {},
     "output_type": "display_data"
    }
   ],
   "source": [
    "xtabs(~ clinical.outcome + pred.outcome, train.data)\n",
    "xtabs(~ clinical.outcome + pred.outcome, test.data)"
   ]
  },
  {
   "cell_type": "code",
   "execution_count": 39,
   "metadata": {},
   "outputs": [
    {
     "data": {
      "image/png": "[encoded data removed]",
      "text/plain": [
       "plot without title"
      ]
     },
     "metadata": {},
     "output_type": "display_data"
    }
   ],
   "source": [
    "simple_roc <- function(labels, scores){\n",
    "  labels <- labels[order(scores, decreasing=TRUE)]\n",
    "  data.frame(TPR=cumsum(labels)/sum(labels), FPR=cumsum(!labels)/sum(!labels), labels)\n",
    "}\n",
    "roc.train = simple_roc(train.data$clinical.outcome %in% \"Success\",\n",
    "                      train.data$pred.prob)\n",
    "roc.test = simple_roc(test.data$clinical.outcome %in% \"Success\",\n",
    "                      test.data$pred.prob)\n",
    "plot(TPR ~ 1 - FPR, roc.train, type = \"l\", lwd = 2, col = \"blue\")\n",
    "lines(TPR ~ 1 - FPR, roc.test, lwd = 2, col = \"red\")\n",
    "abline(0, 1)"
   ]
  },
  {
   "cell_type": "markdown",
   "metadata": {
    "collapsed": true
   },
   "source": [
    "## Some cautionary notes\n",
    "While the strategy of using the historical drug development record to fit models of target--indication success has many advantages, we also need to be aware of limitations in the data.  For example:\n",
    "* Less than 5% of protein--coding genes have ever been explored in the clinic\n",
    "* The proteins that have been explored in the clinic represent a very biased subset of the coding genes as a whole"
   ]
  },
  {
   "cell_type": "code",
   "execution_count": 40,
   "metadata": {},
   "outputs": [
    {
     "data": {
      "text/html": [
       "793"
      ],
      "text/latex": [
       "793"
      ],
      "text/markdown": [
       "793"
      ],
      "text/plain": [
       "[1] 793"
      ]
     },
     "metadata": {},
     "output_type": "display_data"
    },
    {
     "data": {
      "text/html": [
       "<table>\n",
       "<thead><tr><th scope=col>clinical.outcome</th><th scope=col>unique</th></tr></thead>\n",
       "<tbody>\n",
       "\t<tr><td>Failure</td><td>741    </td></tr>\n",
       "\t<tr><td>Success</td><td>325    </td></tr>\n",
       "</tbody>\n",
       "</table>\n"
      ],
      "text/latex": [
       "\\begin{tabular}{r|ll}\n",
       " clinical.outcome & unique\\\\\n",
       "\\hline\n",
       "\t Failure & 741    \\\\\n",
       "\t Success & 325    \\\\\n",
       "\\end{tabular}\n"
      ],
      "text/markdown": [
       "\n",
       "clinical.outcome | unique | \n",
       "|---|---|\n",
       "| Failure | 741     | \n",
       "| Success | 325     | \n",
       "\n",
       "\n"
      ],
      "text/plain": [
       "  clinical.outcome unique\n",
       "1 Failure          741   \n",
       "2 Success          325   "
      ]
     },
     "metadata": {},
     "output_type": "display_data"
    }
   ],
   "source": [
    "n_distinct(all.data$entrez_id)\n",
    "all.data  %>% \n",
    "    group_by(clinical.outcome) %>% \n",
    "    summarise(unique = n_distinct(entrez_id))"
   ]
  },
  {
   "cell_type": "markdown",
   "metadata": {},
   "source": [
    "* A modest number of diseases have been explored, and for a highly biased subset of corresponding targets"
   ]
  },
  {
   "cell_type": "code",
   "execution_count": 41,
   "metadata": {},
   "outputs": [
    {
     "data": {
      "text/html": [
       "399"
      ],
      "text/latex": [
       "399"
      ],
      "text/markdown": [
       "399"
      ],
      "text/plain": [
       "[1] 399"
      ]
     },
     "metadata": {},
     "output_type": "display_data"
    },
    {
     "data": {
      "text/html": [
       "<table>\n",
       "<thead><tr><th scope=col>clinical.outcome</th><th scope=col>unique</th></tr></thead>\n",
       "<tbody>\n",
       "\t<tr><td>Failure</td><td>310    </td></tr>\n",
       "\t<tr><td>Success</td><td>297    </td></tr>\n",
       "</tbody>\n",
       "</table>\n"
      ],
      "text/latex": [
       "\\begin{tabular}{r|ll}\n",
       " clinical.outcome & unique\\\\\n",
       "\\hline\n",
       "\t Failure & 310    \\\\\n",
       "\t Success & 297    \\\\\n",
       "\\end{tabular}\n"
      ],
      "text/markdown": [
       "\n",
       "clinical.outcome | unique | \n",
       "|---|---|\n",
       "| Failure | 310     | \n",
       "| Success | 297     | \n",
       "\n",
       "\n"
      ],
      "text/plain": [
       "  clinical.outcome unique\n",
       "1 Failure          310   \n",
       "2 Success          297   "
      ]
     },
     "metadata": {},
     "output_type": "display_data"
    }
   ],
   "source": [
    "n_distinct(all.data$MeSH_ID)\n",
    "all.data  %>% \n",
    "    group_by(clinical.outcome) %>% \n",
    "    summarise(unique = n_distinct(MeSH_ID))"
   ]
  },
  {
   "cell_type": "markdown",
   "metadata": {},
   "source": [
    "* Some indications have been pursued by a lot of targets"
   ]
  },
  {
   "cell_type": "code",
   "execution_count": 42,
   "metadata": {},
   "outputs": [
    {
     "data": {
      "image/png": "[encoded data removed]",
      "text/plain": [
       "plot without title"
      ]
     },
     "metadata": {},
     "output_type": "display_data"
    }
   ],
   "source": [
    "x <- table(as.character(all.data$entrez_id))\n",
    "g <- ggplot(data.frame(Ind = x), aes(Ind.Freq)) + geom_histogram(binwidth = 1) +\n",
    "    labs(x = \"Number of Unique Indications per Target\", y = \"Count\")\n",
    "print(g)"
   ]
  },
  {
   "cell_type": "markdown",
   "metadata": {},
   "source": [
    "* Some targets have been studied for lots of indications"
   ]
  },
  {
   "cell_type": "code",
   "execution_count": 43,
   "metadata": {},
   "outputs": [
    {
     "data": {
      "image/png": "[encoded data removed]",
      "text/plain": [
       "plot without title"
      ]
     },
     "metadata": {},
     "output_type": "display_data"
    }
   ],
   "source": [
    "x <- table(as.character(all.data$MeSH_ID))\n",
    "g <- ggplot(data.frame(Ind = x), aes(Ind.Freq)) + geom_histogram(binwidth = 1) +\n",
    "    labs(x = \"Number of Unique Targets per Indication\", y = \"Count\")\n",
    "print(g)"
   ]
  },
  {
   "cell_type": "markdown",
   "metadata": {},
   "source": [
    "* Targets that have been tried for a larger number of indications show a higher proportion of success, with a strong preference for indication adjacencies.  These could be considered as duplicates of one another"
   ]
  },
  {
   "cell_type": "code",
   "execution_count": 44,
   "metadata": {},
   "outputs": [
    {
     "data": {
      "image/png": "[encoded data removed]",
      "text/plain": [
       "plot without title"
      ]
     },
     "metadata": {},
     "output_type": "display_data"
    }
   ],
   "source": [
    "success.fxn = function(x) { sum(x %in% \"Success\")/length(x) }\n",
    "target.success = all.data %>% \n",
    "    group_by(entrez_id) %>%\n",
    "    summarise(ind.count = n_distinct(MeSH_ID), \n",
    "              target.success = success.fxn(clinical.outcome))\n",
    "g <- ggplot(target.success, aes(ind.count, target.success)) + geom_point() +\n",
    "    geom_smooth(method = \"loess\") + xlab(\"Number of Indications\")\n",
    "print(g)"
   ]
  },
  {
   "cell_type": "markdown",
   "metadata": {},
   "source": [
    "## Repeating simple logistic model without duplicate targets\n",
    "\n",
    "We can assess the robustness of our prediction model by repeating the logistic regression model selection on a subset of the data that retains only a single, randomly selected indication for each target."
   ]
  },
  {
   "cell_type": "code",
   "execution_count": 45,
   "metadata": {},
   "outputs": [
    {
     "data": {
      "text/plain": [
       " clinical.outcome   entrez_id            MeSH_ID      Train        \n",
       " Failure:629      Min.   :        2   D001172: 38   Mode :logical  \n",
       " Success:164      1st Qu.:     1816   D011565: 34   FALSE:154      \n",
       "                  Median :     3717   D009190: 30   TRUE :639      \n",
       "                  Mean   :   137514   D001249: 26                  \n",
       "                  3rd Qu.:     6356   D003424: 19                  \n",
       "                  Max.   :100133941   D003924: 19                  \n",
       "                                      (Other):627                  "
      ]
     },
     "metadata": {},
     "output_type": "display_data"
    }
   ],
   "source": [
    "## Create subset of all.data, randomly selecting one indication per target\n",
    "u.all.data = subset(all.data[sample(1:nrow(all.data)),],\n",
    "                   !duplicated(entrez_id))\n",
    "## Randomly select training and test set\n",
    "u.all.data$Train = sample(c(TRUE, FALSE), size = nrow(u.all.data), \n",
    "                          replace = TRUE, prob = c(0.8, 0.2))\n",
    "summary(u.all.data[, c(\"clinical.outcome\", \"entrez_id\", \"MeSH_ID\", \"Train\")])"
   ]
  },
  {
   "cell_type": "code",
   "execution_count": 46,
   "metadata": {},
   "outputs": [
    {
     "data": {
      "text/html": [
       "<table>\n",
       "<thead><tr><th></th><th scope=col>Df</th><th scope=col>Deviance</th><th scope=col>Resid. Df</th><th scope=col>Resid. Dev</th><th scope=col>Pr(&gt;Chi)</th></tr></thead>\n",
       "<tbody>\n",
       "\t<tr><th scope=row>NULL</th><td>NA          </td><td>       NA   </td><td>638         </td><td>642.8274    </td><td>          NA</td></tr>\n",
       "\t<tr><th scope=row>rna_expression.pos</th><td> 1          </td><td>36.853938   </td><td>637         </td><td>605.9734    </td><td>1.273186e-09</td></tr>\n",
       "\t<tr><th scope=row>animal_model.pos</th><td> 1          </td><td>20.780965   </td><td>636         </td><td>585.1924    </td><td>5.149223e-06</td></tr>\n",
       "\t<tr><th scope=row>literature.pos</th><td> 1          </td><td> 8.882378   </td><td>635         </td><td>576.3101    </td><td>2.879362e-03</td></tr>\n",
       "\t<tr><th scope=row>uniprot_literature.pos</th><td> 1          </td><td> 7.197581   </td><td>634         </td><td>569.1125    </td><td>7.300190e-03</td></tr>\n",
       "\t<tr><th scope=row>expression_score.pos</th><td> 1          </td><td> 3.273664   </td><td>633         </td><td>565.8388    </td><td>7.040023e-02</td></tr>\n",
       "\t<tr><th scope=row>GTEX_median_all_tissues.pos</th><td> 1          </td><td> 3.418020   </td><td>632         </td><td>562.4208    </td><td>6.448830e-02</td></tr>\n",
       "\t<tr><th scope=row>topology_type</th><td> 4          </td><td>10.523575   </td><td>628         </td><td>551.8972    </td><td>3.247380e-02</td></tr>\n",
       "</tbody>\n",
       "</table>\n"
      ],
      "text/latex": [
       "\\begin{tabular}{r|lllll}\n",
       "  & Df & Deviance & Resid. Df & Resid. Dev & Pr(>Chi)\\\\\n",
       "\\hline\n",
       "\tNULL & NA           &        NA    & 638          & 642.8274     &           NA\\\\\n",
       "\trna\\_expression.pos &  1           & 36.853938    & 637          & 605.9734     & 1.273186e-09\\\\\n",
       "\tanimal\\_model.pos &  1           & 20.780965    & 636          & 585.1924     & 5.149223e-06\\\\\n",
       "\tliterature.pos &  1           &  8.882378    & 635          & 576.3101     & 2.879362e-03\\\\\n",
       "\tuniprot\\_literature.pos &  1           &  7.197581    & 634          & 569.1125     & 7.300190e-03\\\\\n",
       "\texpression\\_score.pos &  1           &  3.273664    & 633          & 565.8388     & 7.040023e-02\\\\\n",
       "\tGTEX\\_median\\_all\\_tissues.pos &  1           &  3.418020    & 632          & 562.4208     & 6.448830e-02\\\\\n",
       "\ttopology\\_type &  4           & 10.523575    & 628          & 551.8972     & 3.247380e-02\\\\\n",
       "\\end{tabular}\n"
      ],
      "text/markdown": [
       "\n",
       "| <!--/--> | Df | Deviance | Resid. Df | Resid. Dev | Pr(>Chi) | \n",
       "|---|---|---|---|---|---|---|---|\n",
       "| NULL | NA           |        NA    | 638          | 642.8274     |           NA | \n",
       "| rna_expression.pos |  1           | 36.853938    | 637          | 605.9734     | 1.273186e-09 | \n",
       "| animal_model.pos |  1           | 20.780965    | 636          | 585.1924     | 5.149223e-06 | \n",
       "| literature.pos |  1           |  8.882378    | 635          | 576.3101     | 2.879362e-03 | \n",
       "| uniprot_literature.pos |  1           |  7.197581    | 634          | 569.1125     | 7.300190e-03 | \n",
       "| expression_score.pos |  1           |  3.273664    | 633          | 565.8388     | 7.040023e-02 | \n",
       "| GTEX_median_all_tissues.pos |  1           |  3.418020    | 632          | 562.4208     | 6.448830e-02 | \n",
       "| topology_type |  4           | 10.523575    | 628          | 551.8972     | 3.247380e-02 | \n",
       "\n",
       "\n"
      ],
      "text/plain": [
       "                            Df Deviance  Resid. Df Resid. Dev Pr(>Chi)    \n",
       "NULL                        NA        NA 638       642.8274             NA\n",
       "rna_expression.pos           1 36.853938 637       605.9734   1.273186e-09\n",
       "animal_model.pos             1 20.780965 636       585.1924   5.149223e-06\n",
       "literature.pos               1  8.882378 635       576.3101   2.879362e-03\n",
       "uniprot_literature.pos       1  7.197581 634       569.1125   7.300190e-03\n",
       "expression_score.pos         1  3.273664 633       565.8388   7.040023e-02\n",
       "GTEX_median_all_tissues.pos  1  3.418020 632       562.4208   6.448830e-02\n",
       "topology_type                4 10.523575 628       551.8972   3.247380e-02"
      ]
     },
     "metadata": {},
     "output_type": "display_data"
    }
   ],
   "source": [
    "u.train.data = subset(u.all.data, Train)\n",
    "u.test.data = subset(u.all.data, !Train)\n",
    "u.indep.vars = indep.vars[!(indep.vars %in% \"phenodigm.pos\")]\n",
    "\n",
    "u.full.glm = glm(clinical.outcome ~ ., \n",
    "                u.train.data[, c(\"clinical.outcome\", u.indep.vars)],\n",
    "              family = binomial)\n",
    "u.backward.glm = step(u.full.glm, trace = 0)\n",
    "anova(u.backward.glm, test = \"Chisq\")"
   ]
  },
  {
   "cell_type": "code",
   "execution_count": 47,
   "metadata": {
    "collapsed": true
   },
   "outputs": [],
   "source": [
    "u.test.data$pred.prob = predict(u.backward.glm, newdata = u.test.data, \n",
    "                            type = \"response\")\n",
    "u.train.data$pred.prob = predict(u.backward.glm, newdata = u.train.data, \n",
    "                              type = \"response\")"
   ]
  },
  {
   "cell_type": "code",
   "execution_count": 48,
   "metadata": {},
   "outputs": [
    {
     "data": {
      "image/png": "[encoded data removed]",
      "text/plain": [
       "plot without title"
      ]
     },
     "metadata": {},
     "output_type": "display_data"
    }
   ],
   "source": [
    "u.roc.train = simple_roc(u.train.data$clinical.outcome %in% \"Success\",\n",
    "                      u.train.data$pred.prob)\n",
    "u.roc.test = simple_roc(u.test.data$clinical.outcome %in% \"Success\",\n",
    "                      u.test.data$pred.prob)\n",
    "plot(TPR ~ 1 - FPR, roc.train, type = \"l\", lwd = 2, col = \"blue\")\n",
    "lines(TPR ~ 1 - FPR, roc.test, lwd = 2, col = \"red\")\n",
    "lines(TPR ~ 1 - FPR, u.roc.train, lwd = 2, col = \"blue\", lty = 2)\n",
    "lines(TPR ~ 1 - FPR, u.roc.test, lwd = 2, col = \"red\", lty = 2)\n",
    "abline(0, 1)\n",
    "legend(1, 0, c(\"Train - All\", \"Test - All\", \"Train - No Dups\", \"Test - No Dups\"), \n",
    "       lty = c(1, 1, 2, 2), lwd = 2, col = rep(c(\"blue\", \"red\"), 2), xjust = 1, yjust = 0)"
   ]
  }
 ],
 "metadata": {
  "kernelspec": {
   "display_name": "R",
   "language": "R",
   "name": "ir"
  },
  "language_info": {
   "codemirror_mode": "r",
   "file_extension": ".r",
   "mimetype": "text/x-r-source",
   "name": "R",
   "pygments_lexer": "r",
   "version": "3.4.2"
  }
 },
 "nbformat": 4,
 "nbformat_minor": 2
}
